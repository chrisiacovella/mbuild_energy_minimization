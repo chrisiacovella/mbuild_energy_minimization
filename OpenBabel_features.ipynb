{
 "cells": [
  {
   "cell_type": "markdown",
   "id": "0dcc672c-7e9a-488e-902d-f2c94296f57c",
   "metadata": {},
   "source": [
    "# Energy minimization in mBuild using OpenBabel constraints\n",
    "\n",
    "This notebook provides an overview of the syntax to define various constraints for mBuilds wrapper to OpenBabel.  The features discussed here include:\n",
    "\n",
    "- Specifying `Compounds` whose position will stay fixed during energy minimization\n",
    "- Defining distance constraints between particle pairs\n",
    "- Specifying `Compounds` whose interactions are to be ignored during energy minimization\n"
   ]
  },
  {
   "cell_type": "code",
   "execution_count": 1,
   "id": "4b32849b-f0cb-49ed-9da4-8e6df0ce66d6",
   "metadata": {},
   "outputs": [
    {
     "name": "stderr",
     "output_type": "stream",
     "text": [
      "Warning: importing 'simtk.openmm' is deprecated.  Import 'openmm' instead.\n"
     ]
    }
   ],
   "source": [
    "import mbuild as mb\n",
    "import numpy as np\n",
    "import warnings\n",
    "warnings.filterwarnings('ignore') \n",
    "\n",
    "\n",
    "from mbuild.lib.recipes.alkane import Alkane"
   ]
  },
  {
   "cell_type": "markdown",
   "id": "f332a3e0-f5f7-46ef-9cf9-e0ddf859a69f",
   "metadata": {},
   "source": [
    "## Fixing Compound positions\n",
    "\n",
    "OpenBabel allows a user to specify a list of atoms whose position will remained \"fixed\" during the energy minimization. The wrapper in mBuild allows users to specify `Compounds` to be fixed via the fixed_compounds argument. \n",
    "\n",
    "In the code below, we will specify the first methyl group to be fixed during the optimization.  Note, mBuild will automatically traverse the hierarchy such that it will fix all particles contained within a `Compound` at any level below it; in this case one  C atom and three H atom. \n",
    "\n",
    "This example is similar to the anchor_point example in the Basic Energy Minimization notebook. "
   ]
  },
  {
   "cell_type": "code",
   "execution_count": 2,
   "id": "20b20f73-dd03-4c7f-b8fc-ec260864c4d9",
   "metadata": {},
   "outputs": [
    {
     "name": "stdout",
     "output_type": "stream",
     "text": [
      "Net change in anchor COM: 0.0013435056 nm \n"
     ]
    }
   ],
   "source": [
    "hexane = Alkane(n=6)\n",
    "fixed = hexane.labels['chain'].labels['CH3'][0]\n",
    "initial_com = fixed.pos\n",
    "\n",
    "hexane.energy_minimize(shift_com=False, fixed_compounds=fixed)\n",
    "final_com = fixed.pos\n",
    "\n",
    "\n",
    "diff = np.linalg.norm(initial_com-final_com)\n",
    "print(\"Net change in anchor COM: {0:.10f} nm \".format(diff))"
   ]
  },
  {
   "cell_type": "markdown",
   "id": "b95b4e7b-c68c-4a95-aad1-0812cba27ea5",
   "metadata": {},
   "source": [
    "If we run the code cell above, we will see a net change in the COM is on the order of 1e-3 nm, which might make you think the position has not been held fixed. However, in OpenBabel, fixed compounds are not truly fixed, but rather restrained by a strong harmonic spring to their initial position, and thus small changes in position are to be expected during the optimization. \n",
    "\n",
    "To better demonstrate that positions are reasonably held constant during the optimization, let us expand this example such that we fix the first half the molecule. Visualization of this structure will show that the initial planar structure is retained in the first two monomers, while the rest of the chain is adjusted."
   ]
  },
  {
   "cell_type": "code",
   "execution_count": 3,
   "id": "9a3e696e-bb0a-41c2-9bdc-89667e1c3b63",
   "metadata": {},
   "outputs": [
    {
     "data": {
      "application/3dmoljs_load.v0": "<div id=\"3dmolviewer_1668807355903072\"  style=\"position: relative; width: 640px; height: 480px\">\n        <p id=\"3dmolwarning_1668807355903072\" style=\"background-color:#ffcccc;color:black\">You appear to be running in JupyterLab (or JavaScript failed to load for some other reason).  You need to install the 3dmol extension: <br>\n        <tt>jupyter labextension install jupyterlab_3dmol</tt></p>\n        </div>\n<script>\n\nvar loadScriptAsync = function(uri){\n  return new Promise((resolve, reject) => {\n    var tag = document.createElement('script');\n    tag.src = uri;\n    tag.async = true;\n    tag.onload = () => {\n      resolve();\n    };\n  var firstScriptTag = document.getElementsByTagName('script')[0];\n  firstScriptTag.parentNode.insertBefore(tag, firstScriptTag);\n});\n};\n\nif(typeof $3Dmolpromise === 'undefined') {\n$3Dmolpromise = null;\n  $3Dmolpromise = loadScriptAsync('https://cdn.jsdelivr.net/npm/3dmol@latest/build/3Dmol-min.min.js');\n}\n\nvar viewer_1668807355903072 = null;\nvar warn = document.getElementById(\"3dmolwarning_1668807355903072\");\nif(warn) {\n    warn.parentNode.removeChild(warn);\n}\n$3Dmolpromise.then(function() {\nviewer_1668807355903072 = $3Dmol.createViewer($(\"#3dmolviewer_1668807355903072\"),{backgroundColor:\"white\"});\nviewer_1668807355903072.zoomTo();\n\tviewer_1668807355903072.addModel(\"@<TRIPOS>MOLECULE\\nRES\\n20 19 1 0 1\\nSMALL\\nNO_CHARGES\\n@<TRIPOS>CRYSIN\\n    7.9660    12.6850     8.4590    90.0000    90.0000    90.0000  1  1\\n@<TRIPOS>ATOM\\n       1 C            0.0390    -0.0350     0.0310 C             1 RES     \\n       2 H           -1.0870    -0.0360     0.0420 H             1 RES     \\n       3 H            1.0760    -0.0050     0.0500 H             1 RES     \\n       4 C            0.0010    -1.4420     0.0320 C             1 RES     \\n       5 H           -1.0750    -1.3760     0.0370 H             1 RES     \\n       6 H            1.1410    -1.4480    -0.0030 H             1 RES     \\n       7 C            0.0220    -2.0870     1.4550 C             1 RES     \\n       8 H           -0.9700    -2.0520     1.9720 H             1 RES     \\n       9 H            0.7270    -1.5390     2.1240 H             1 RES     \\n      10 C            0.4990    -3.5500     1.3940 C             1 RES     \\n      11 H            0.5180    -3.9640     2.4260 H             1 RES     \\n      12 H            1.5360    -3.5870     0.9920 H             1 RES     \\n      13 C           -0.0140     1.4030    -0.0020 C             1 RES     \\n      14 H            1.0380     1.3540    -0.0240 H             1 RES     \\n      15 H           -0.3330     2.2110     0.6140 H             1 RES     \\n      16 H           -0.3780     1.5540    -1.0330 H             1 RES     \\n      17 C           -0.3920    -4.4360     0.5240 C             1 RES     \\n      18 H           -1.4300    -4.4420     0.9150 H             1 RES     \\n      19 H            0.0040    -5.4740     0.5310 H             1 RES     \\n      20 H           -0.3950    -4.0750    -0.5260 H             1 RES     \\n@<TRIPOS>BOND\\n       1        2        1 1\\n       2        3        1 1\\n       3        4        1 1\\n       4       13        1 1\\n       5        5        4 1\\n       6        6        4 1\\n       7        7        4 1\\n       8        8        7 1\\n       9        9        7 1\\n      10       10        7 1\\n      11       11       10 1\\n      12       12       10 1\\n      13       17       10 1\\n      14       14       13 1\\n      15       15       13 1\\n      16       16       13 1\\n      17       18       17 1\\n      18       19       17 1\\n      19       20       17 1\\n@<TRIPOS>SUBSTRUCTURE\\n       1 RES             1 RESIDUE    0 **** ROOT      0\\n\",\"mol2\");\n\tviewer_1668807355903072.setStyle({\"stick\": {\"radius\": 0.2, \"color\": \"grey\"}, \"sphere\": {\"scale\": 0.3, \"colorscheme\": {}}});\n\tviewer_1668807355903072.zoomTo();\nviewer_1668807355903072.render();\n});\n</script>",
      "text/html": [
       "<div id=\"3dmolviewer_1668807355903072\"  style=\"position: relative; width: 640px; height: 480px\">\n",
       "        <p id=\"3dmolwarning_1668807355903072\" style=\"background-color:#ffcccc;color:black\">You appear to be running in JupyterLab (or JavaScript failed to load for some other reason).  You need to install the 3dmol extension: <br>\n",
       "        <tt>jupyter labextension install jupyterlab_3dmol</tt></p>\n",
       "        </div>\n",
       "<script>\n",
       "\n",
       "var loadScriptAsync = function(uri){\n",
       "  return new Promise((resolve, reject) => {\n",
       "    var tag = document.createElement('script');\n",
       "    tag.src = uri;\n",
       "    tag.async = true;\n",
       "    tag.onload = () => {\n",
       "      resolve();\n",
       "    };\n",
       "  var firstScriptTag = document.getElementsByTagName('script')[0];\n",
       "  firstScriptTag.parentNode.insertBefore(tag, firstScriptTag);\n",
       "});\n",
       "};\n",
       "\n",
       "if(typeof $3Dmolpromise === 'undefined') {\n",
       "$3Dmolpromise = null;\n",
       "  $3Dmolpromise = loadScriptAsync('https://cdn.jsdelivr.net/npm/3dmol@latest/build/3Dmol-min.min.js');\n",
       "}\n",
       "\n",
       "var viewer_1668807355903072 = null;\n",
       "var warn = document.getElementById(\"3dmolwarning_1668807355903072\");\n",
       "if(warn) {\n",
       "    warn.parentNode.removeChild(warn);\n",
       "}\n",
       "$3Dmolpromise.then(function() {\n",
       "viewer_1668807355903072 = $3Dmol.createViewer($(\"#3dmolviewer_1668807355903072\"),{backgroundColor:\"white\"});\n",
       "viewer_1668807355903072.zoomTo();\n",
       "\tviewer_1668807355903072.addModel(\"@<TRIPOS>MOLECULE\\nRES\\n20 19 1 0 1\\nSMALL\\nNO_CHARGES\\n@<TRIPOS>CRYSIN\\n    7.9660    12.6850     8.4590    90.0000    90.0000    90.0000  1  1\\n@<TRIPOS>ATOM\\n       1 C            0.0390    -0.0350     0.0310 C             1 RES     \\n       2 H           -1.0870    -0.0360     0.0420 H             1 RES     \\n       3 H            1.0760    -0.0050     0.0500 H             1 RES     \\n       4 C            0.0010    -1.4420     0.0320 C             1 RES     \\n       5 H           -1.0750    -1.3760     0.0370 H             1 RES     \\n       6 H            1.1410    -1.4480    -0.0030 H             1 RES     \\n       7 C            0.0220    -2.0870     1.4550 C             1 RES     \\n       8 H           -0.9700    -2.0520     1.9720 H             1 RES     \\n       9 H            0.7270    -1.5390     2.1240 H             1 RES     \\n      10 C            0.4990    -3.5500     1.3940 C             1 RES     \\n      11 H            0.5180    -3.9640     2.4260 H             1 RES     \\n      12 H            1.5360    -3.5870     0.9920 H             1 RES     \\n      13 C           -0.0140     1.4030    -0.0020 C             1 RES     \\n      14 H            1.0380     1.3540    -0.0240 H             1 RES     \\n      15 H           -0.3330     2.2110     0.6140 H             1 RES     \\n      16 H           -0.3780     1.5540    -1.0330 H             1 RES     \\n      17 C           -0.3920    -4.4360     0.5240 C             1 RES     \\n      18 H           -1.4300    -4.4420     0.9150 H             1 RES     \\n      19 H            0.0040    -5.4740     0.5310 H             1 RES     \\n      20 H           -0.3950    -4.0750    -0.5260 H             1 RES     \\n@<TRIPOS>BOND\\n       1        2        1 1\\n       2        3        1 1\\n       3        4        1 1\\n       4       13        1 1\\n       5        5        4 1\\n       6        6        4 1\\n       7        7        4 1\\n       8        8        7 1\\n       9        9        7 1\\n      10       10        7 1\\n      11       11       10 1\\n      12       12       10 1\\n      13       17       10 1\\n      14       14       13 1\\n      15       15       13 1\\n      16       16       13 1\\n      17       18       17 1\\n      18       19       17 1\\n      19       20       17 1\\n@<TRIPOS>SUBSTRUCTURE\\n       1 RES             1 RESIDUE    0 **** ROOT      0\\n\",\"mol2\");\n",
       "\tviewer_1668807355903072.setStyle({\"stick\": {\"radius\": 0.2, \"color\": \"grey\"}, \"sphere\": {\"scale\": 0.3, \"colorscheme\": {}}});\n",
       "\tviewer_1668807355903072.zoomTo();\n",
       "viewer_1668807355903072.render();\n",
       "});\n",
       "</script>"
      ]
     },
     "metadata": {},
     "output_type": "display_data"
    },
    {
     "data": {
      "text/plain": [
       "<py3Dmol.view at 0x164b26580>"
      ]
     },
     "execution_count": 3,
     "metadata": {},
     "output_type": "execute_result"
    }
   ],
   "source": [
    "hexane = Alkane(n=6)\n",
    "fixed1 = hexane.labels['chain'].labels['CH3'][0]\n",
    "fixed2 = hexane.labels['chain'].labels['monomer'][0]\n",
    "fixed3 = hexane.labels['chain'].labels['monomer'][1]\n",
    "\n",
    "hexane.energy_minimize(shift_com=False, \n",
    "                       fixed_compounds=[fixed1, fixed2, fixed3])\n",
    "\n",
    "hexane.visualize()"
   ]
  },
  {
   "cell_type": "markdown",
   "id": "6ff941dd-76a5-4304-9d85-4d4983bfa2fc",
   "metadata": {},
   "source": [
    "Unless otherwise specified, a fixed `Compound` will have position fixed in x,y and z directions.  To specify which directions to restrain the positions, we can use the following format: \n",
    "\n",
    "`[Compound, (x bool value, y bool value, z bool value)]`.  Note, bool values can either be a tuple or list with no impact on the code itself; here, a tuple is used for visual clarity. \n",
    "\n",
    "In the code below, we only fix the z-position of the terminal methyl groups:"
   ]
  },
  {
   "cell_type": "code",
   "execution_count": 4,
   "id": "e82c2238-46e7-457f-a602-997b6f4f989c",
   "metadata": {},
   "outputs": [],
   "source": [
    "hexane = Alkane(n=6)\n",
    "fixed1 = hexane.labels['chain'].labels['CH3'][0]\n",
    "fixed2 = hexane.labels['chain'].labels['CH3'][1]\n",
    "\n",
    "\n",
    "hexane.energy_minimize(shift_com=False, \n",
    "                       fixed_compounds=[\n",
    "                                        [fixed1, (False, False, True)],\n",
    "                                        [fixed2, (False, False, True)]\n",
    "                                       ])"
   ]
  },
  {
   "cell_type": "markdown",
   "id": "b602847d-6112-4533-ab37-fdedfd445633",
   "metadata": {},
   "source": [
    "## Defining distance constraints\n",
    "\n",
    "OpenBabel allows constraints to be defined between pairs of atoms.  To specify these with mBuild, we will pass a list of `Compound` pairs and associated distances via the `distance_constraints` argument. Note that, the pairs of `Compounds` must represents individual particles, rather than collections of particles. That is, the code will not let you specify a distance constraint between the two terminal methyl groups, but will allow you to specify a distance constraint between the C atoms in the methyl group. \n",
    "\n",
    "The format of each distance constraint is `[(Compound1, Compound2), distance]`; again, the use of a tuple as a opposed to a list does not impact any function of the code itself, and pairs could be alternatively be defined as a list. Note, distance units are defined in nm, consistent with mBuild.\n",
    "\n",
    "The following code fixes the distance between the terminal C atoms in a hexane molecule, where we specify a small separation to enforce a compacted design.  Note, any number of distance constraints can be specified. \n"
   ]
  },
  {
   "cell_type": "code",
   "execution_count": 5,
   "id": "b9952603-93a3-491d-8874-5800e0d0ab6a",
   "metadata": {},
   "outputs": [
    {
     "name": "stdout",
     "output_type": "stream",
     "text": [
      "distance between two restrained carbons:  0.50015455\n"
     ]
    }
   ],
   "source": [
    "hexane = Alkane(n=6)\n",
    "point0 = hexane.labels['chain'].labels['CH3'][0].labels['C'][0]\n",
    "point1 = hexane.labels['chain'].labels['CH3'][1].labels['C'][0]\n",
    "\n",
    "hexane.energy_minimize(steps=10000,shift_com=False, distance_constraints=[ [(point0, point1), 0.5 ]])\n",
    "\n",
    "distance = np.linalg.norm(point0.pos-point1.pos)\n",
    "\n",
    "print(\"distance between two restrained carbons: \", distance)"
   ]
  },
  {
   "cell_type": "code",
   "execution_count": 6,
   "id": "7bbc851f-1007-42c3-b521-e5e7b918525f",
   "metadata": {},
   "outputs": [
    {
     "data": {
      "application/3dmoljs_load.v0": "<div id=\"3dmolviewer_166880735632811\"  style=\"position: relative; width: 640px; height: 480px\">\n        <p id=\"3dmolwarning_166880735632811\" style=\"background-color:#ffcccc;color:black\">You appear to be running in JupyterLab (or JavaScript failed to load for some other reason).  You need to install the 3dmol extension: <br>\n        <tt>jupyter labextension install jupyterlab_3dmol</tt></p>\n        </div>\n<script>\n\nvar loadScriptAsync = function(uri){\n  return new Promise((resolve, reject) => {\n    var tag = document.createElement('script');\n    tag.src = uri;\n    tag.async = true;\n    tag.onload = () => {\n      resolve();\n    };\n  var firstScriptTag = document.getElementsByTagName('script')[0];\n  firstScriptTag.parentNode.insertBefore(tag, firstScriptTag);\n});\n};\n\nif(typeof $3Dmolpromise === 'undefined') {\n$3Dmolpromise = null;\n  $3Dmolpromise = loadScriptAsync('https://cdn.jsdelivr.net/npm/3dmol@latest/build/3Dmol-min.min.js');\n}\n\nvar viewer_166880735632811 = null;\nvar warn = document.getElementById(\"3dmolwarning_166880735632811\");\nif(warn) {\n    warn.parentNode.removeChild(warn);\n}\n$3Dmolpromise.then(function() {\nviewer_166880735632811 = $3Dmol.createViewer($(\"#3dmolviewer_166880735632811\"),{backgroundColor:\"white\"});\nviewer_166880735632811.zoomTo();\n\tviewer_166880735632811.addModel(\"@<TRIPOS>MOLECULE\\nRES\\n20 19 1 0 1\\nSMALL\\nNO_CHARGES\\n@<TRIPOS>CRYSIN\\n    8.6470    12.0070     7.8640    90.0000    90.0000    90.0000  1  1\\n@<TRIPOS>ATOM\\n       1 C            0.2290    -0.3540    -0.6210 C             1 RES     \\n       2 H           -0.2180    -0.4720    -1.6330 H             1 RES     \\n       3 H            1.2640     0.0390    -0.7190 H             1 RES     \\n       4 C            0.2220    -1.6680     0.1140 C             1 RES     \\n       5 H           -0.8500    -1.9090     0.2450 H             1 RES     \\n       6 H            0.7040    -1.5600     1.1120 H             1 RES     \\n       7 C            0.8810    -2.7890    -0.6750 C             1 RES     \\n       8 H            0.3790    -2.8800    -1.6640 H             1 RES     \\n       9 H            1.9580    -2.5700    -0.8430 H             1 RES     \\n      10 C            0.7320    -4.1120     0.0740 C             1 RES     \\n      11 H            1.3110    -4.0920     1.0240 H             1 RES     \\n      12 H            1.1430    -4.9190    -0.5700 H             1 RES     \\n      13 C           -0.6450     0.5850     0.1790 C             1 RES     \\n      14 H           -0.2310     0.7360     1.2000 H             1 RES     \\n      15 H           -1.6890     0.2120     0.2550 H             1 RES     \\n      16 H           -0.6750     1.5720    -0.3290 H             1 RES     \\n      17 C           -0.7340    -4.4110     0.3970 C             1 RES     \\n      18 H           -1.1580    -3.7480     1.1770 H             1 RES     \\n      19 H           -0.7940    -5.4350     0.8220 H             1 RES     \\n      20 H           -1.3540    -4.3870    -0.5240 H             1 RES     \\n@<TRIPOS>BOND\\n       1        2        1 1\\n       2        3        1 1\\n       3        4        1 1\\n       4       13        1 1\\n       5        5        4 1\\n       6        6        4 1\\n       7        7        4 1\\n       8        8        7 1\\n       9        9        7 1\\n      10       10        7 1\\n      11       11       10 1\\n      12       12       10 1\\n      13       17       10 1\\n      14       14       13 1\\n      15       15       13 1\\n      16       16       13 1\\n      17       18       17 1\\n      18       19       17 1\\n      19       20       17 1\\n@<TRIPOS>SUBSTRUCTURE\\n       1 RES             1 RESIDUE    0 **** ROOT      0\\n\",\"mol2\");\n\tviewer_166880735632811.setStyle({\"stick\": {\"radius\": 0.2, \"color\": \"grey\"}, \"sphere\": {\"scale\": 0.3, \"colorscheme\": {}}});\n\tviewer_166880735632811.zoomTo();\nviewer_166880735632811.render();\n});\n</script>",
      "text/html": [
       "<div id=\"3dmolviewer_166880735632811\"  style=\"position: relative; width: 640px; height: 480px\">\n",
       "        <p id=\"3dmolwarning_166880735632811\" style=\"background-color:#ffcccc;color:black\">You appear to be running in JupyterLab (or JavaScript failed to load for some other reason).  You need to install the 3dmol extension: <br>\n",
       "        <tt>jupyter labextension install jupyterlab_3dmol</tt></p>\n",
       "        </div>\n",
       "<script>\n",
       "\n",
       "var loadScriptAsync = function(uri){\n",
       "  return new Promise((resolve, reject) => {\n",
       "    var tag = document.createElement('script');\n",
       "    tag.src = uri;\n",
       "    tag.async = true;\n",
       "    tag.onload = () => {\n",
       "      resolve();\n",
       "    };\n",
       "  var firstScriptTag = document.getElementsByTagName('script')[0];\n",
       "  firstScriptTag.parentNode.insertBefore(tag, firstScriptTag);\n",
       "});\n",
       "};\n",
       "\n",
       "if(typeof $3Dmolpromise === 'undefined') {\n",
       "$3Dmolpromise = null;\n",
       "  $3Dmolpromise = loadScriptAsync('https://cdn.jsdelivr.net/npm/3dmol@latest/build/3Dmol-min.min.js');\n",
       "}\n",
       "\n",
       "var viewer_166880735632811 = null;\n",
       "var warn = document.getElementById(\"3dmolwarning_166880735632811\");\n",
       "if(warn) {\n",
       "    warn.parentNode.removeChild(warn);\n",
       "}\n",
       "$3Dmolpromise.then(function() {\n",
       "viewer_166880735632811 = $3Dmol.createViewer($(\"#3dmolviewer_166880735632811\"),{backgroundColor:\"white\"});\n",
       "viewer_166880735632811.zoomTo();\n",
       "\tviewer_166880735632811.addModel(\"@<TRIPOS>MOLECULE\\nRES\\n20 19 1 0 1\\nSMALL\\nNO_CHARGES\\n@<TRIPOS>CRYSIN\\n    8.6470    12.0070     7.8640    90.0000    90.0000    90.0000  1  1\\n@<TRIPOS>ATOM\\n       1 C            0.2290    -0.3540    -0.6210 C             1 RES     \\n       2 H           -0.2180    -0.4720    -1.6330 H             1 RES     \\n       3 H            1.2640     0.0390    -0.7190 H             1 RES     \\n       4 C            0.2220    -1.6680     0.1140 C             1 RES     \\n       5 H           -0.8500    -1.9090     0.2450 H             1 RES     \\n       6 H            0.7040    -1.5600     1.1120 H             1 RES     \\n       7 C            0.8810    -2.7890    -0.6750 C             1 RES     \\n       8 H            0.3790    -2.8800    -1.6640 H             1 RES     \\n       9 H            1.9580    -2.5700    -0.8430 H             1 RES     \\n      10 C            0.7320    -4.1120     0.0740 C             1 RES     \\n      11 H            1.3110    -4.0920     1.0240 H             1 RES     \\n      12 H            1.1430    -4.9190    -0.5700 H             1 RES     \\n      13 C           -0.6450     0.5850     0.1790 C             1 RES     \\n      14 H           -0.2310     0.7360     1.2000 H             1 RES     \\n      15 H           -1.6890     0.2120     0.2550 H             1 RES     \\n      16 H           -0.6750     1.5720    -0.3290 H             1 RES     \\n      17 C           -0.7340    -4.4110     0.3970 C             1 RES     \\n      18 H           -1.1580    -3.7480     1.1770 H             1 RES     \\n      19 H           -0.7940    -5.4350     0.8220 H             1 RES     \\n      20 H           -1.3540    -4.3870    -0.5240 H             1 RES     \\n@<TRIPOS>BOND\\n       1        2        1 1\\n       2        3        1 1\\n       3        4        1 1\\n       4       13        1 1\\n       5        5        4 1\\n       6        6        4 1\\n       7        7        4 1\\n       8        8        7 1\\n       9        9        7 1\\n      10       10        7 1\\n      11       11       10 1\\n      12       12       10 1\\n      13       17       10 1\\n      14       14       13 1\\n      15       15       13 1\\n      16       16       13 1\\n      17       18       17 1\\n      18       19       17 1\\n      19       20       17 1\\n@<TRIPOS>SUBSTRUCTURE\\n       1 RES             1 RESIDUE    0 **** ROOT      0\\n\",\"mol2\");\n",
       "\tviewer_166880735632811.setStyle({\"stick\": {\"radius\": 0.2, \"color\": \"grey\"}, \"sphere\": {\"scale\": 0.3, \"colorscheme\": {}}});\n",
       "\tviewer_166880735632811.zoomTo();\n",
       "viewer_166880735632811.render();\n",
       "});\n",
       "</script>"
      ]
     },
     "metadata": {},
     "output_type": "display_data"
    },
    {
     "data": {
      "text/plain": [
       "<py3Dmol.view at 0x163a97df0>"
      ]
     },
     "execution_count": 6,
     "metadata": {},
     "output_type": "execute_result"
    }
   ],
   "source": [
    "hexane.visualize()"
   ]
  },
  {
   "cell_type": "markdown",
   "id": "a9af4c11-7846-42ea-a691-b868885f51a2",
   "metadata": {},
   "source": [
    "## Specificying compounds to ignore\n",
    "\n",
    "We can specify `Compounds` to ignore as well.  By ignore, we mean that OpenBabel won't attempt to move the particles in the `Compound` and it will not apply any force field parameters automatically to the particles. \n",
    "\n",
    "This is particularly useful if we want to use a `Compound` as and anchoring point, e.g., if reverse-mapping a coarse-grained particle, we might want to energy minimize the atomistic atoms ensuring they maintain the target distance to the associated CG interaction site. \n",
    "\n",
    "Note, we need to assign an element to any `Compound` that we wish to ignore (or have the name represent an element) to be able to perform the energy minimization. \n",
    "\n",
    "Let us add an arbitrary Helium in the middle of the chain (overlapping a Carbon atom), slightly offset so it can be easily visualized."
   ]
  },
  {
   "cell_type": "code",
   "execution_count": 7,
   "id": "226274de-9daf-4f27-bdc8-7c86055a8e9e",
   "metadata": {},
   "outputs": [
    {
     "data": {
      "application/3dmoljs_load.v0": "<div id=\"3dmolviewer_1668807356351697\"  style=\"position: relative; width: 640px; height: 480px\">\n        <p id=\"3dmolwarning_1668807356351697\" style=\"background-color:#ffcccc;color:black\">You appear to be running in JupyterLab (or JavaScript failed to load for some other reason).  You need to install the 3dmol extension: <br>\n        <tt>jupyter labextension install jupyterlab_3dmol</tt></p>\n        </div>\n<script>\n\nvar loadScriptAsync = function(uri){\n  return new Promise((resolve, reject) => {\n    var tag = document.createElement('script');\n    tag.src = uri;\n    tag.async = true;\n    tag.onload = () => {\n      resolve();\n    };\n  var firstScriptTag = document.getElementsByTagName('script')[0];\n  firstScriptTag.parentNode.insertBefore(tag, firstScriptTag);\n});\n};\n\nif(typeof $3Dmolpromise === 'undefined') {\n$3Dmolpromise = null;\n  $3Dmolpromise = loadScriptAsync('https://cdn.jsdelivr.net/npm/3dmol@latest/build/3Dmol-min.min.js');\n}\n\nvar viewer_1668807356351697 = null;\nvar warn = document.getElementById(\"3dmolwarning_1668807356351697\");\nif(warn) {\n    warn.parentNode.removeChild(warn);\n}\n$3Dmolpromise.then(function() {\nviewer_1668807356351697 = $3Dmol.createViewer($(\"#3dmolviewer_1668807356351697\"),{backgroundColor:\"white\"});\nviewer_1668807356351697.zoomTo();\n\tviewer_1668807356351697.addModel(\"@<TRIPOS>MOLECULE\\nRES\\n21 19 1 0 1\\nSMALL\\nNO_CHARGES\\n@<TRIPOS>CRYSIN\\n    7.2000    13.5380     6.6460    90.0000    90.0000    90.0000  1  1\\n@<TRIPOS>ATOM\\n       1 C            0.0000     0.0000     0.0000 C             1 RES     \\n       2 H           -1.1000     0.0000     0.0000 H             1 RES     \\n       3 H            1.1000     0.0000     0.0000 H             1 RES     \\n       4 C           -0.0000    -1.4000     0.0000 C             1 RES     \\n       5 H           -1.1000    -1.4000    -0.0000 H             1 RES     \\n       6 H            1.1000    -1.4000     0.0000 H             1 RES     \\n       7 C           -0.0000    -2.8000     0.0000 C             1 RES     \\n       8 H           -1.1000    -2.8000    -0.0000 H             1 RES     \\n       9 H            1.1000    -2.8000     0.0000 H             1 RES     \\n      10 C           -0.0000    -4.2000     0.0000 C             1 RES     \\n      11 H           -1.1000    -4.2000    -0.0000 H             1 RES     \\n      12 H            1.1000    -4.2000     0.0000 H             1 RES     \\n      13 C            0.0000     1.4000     0.0000 C             1 RES     \\n      14 H            1.0700     1.4000    -0.0000 H             1 RES     \\n      15 H           -0.3570     2.1690     0.6530 H             1 RES     \\n      16 H           -0.3570     1.5810    -0.9930 H             1 RES     \\n      17 C           -0.0000    -5.6000    -0.0000 C             1 RES     \\n      18 H           -1.0700    -5.6000    -0.0000 H             1 RES     \\n      19 H            0.3570    -6.3690     0.6530 H             1 RES     \\n      20 H            0.3570    -5.7810    -0.9930 H             1 RES     \\n      21 He          -0.0000    -2.8000     0.5000 He            1 RES     \\n@<TRIPOS>BOND\\n       1        2        1 1\\n       2        3        1 1\\n       3        4        1 1\\n       4       13        1 1\\n       5        5        4 1\\n       6        6        4 1\\n       7        7        4 1\\n       8        8        7 1\\n       9        9        7 1\\n      10       10        7 1\\n      11       11       10 1\\n      12       12       10 1\\n      13       17       10 1\\n      14       14       13 1\\n      15       15       13 1\\n      16       16       13 1\\n      17       18       17 1\\n      18       19       17 1\\n      19       20       17 1\\n@<TRIPOS>SUBSTRUCTURE\\n       1 RES             1 RESIDUE    0 **** ROOT      0\\n\",\"mol2\");\n\tviewer_1668807356351697.setStyle({\"stick\": {\"radius\": 0.2, \"color\": \"grey\"}, \"sphere\": {\"scale\": 0.3, \"colorscheme\": {}}});\n\tviewer_1668807356351697.zoomTo();\nviewer_1668807356351697.render();\n});\n</script>",
      "text/html": [
       "<div id=\"3dmolviewer_1668807356351697\"  style=\"position: relative; width: 640px; height: 480px\">\n",
       "        <p id=\"3dmolwarning_1668807356351697\" style=\"background-color:#ffcccc;color:black\">You appear to be running in JupyterLab (or JavaScript failed to load for some other reason).  You need to install the 3dmol extension: <br>\n",
       "        <tt>jupyter labextension install jupyterlab_3dmol</tt></p>\n",
       "        </div>\n",
       "<script>\n",
       "\n",
       "var loadScriptAsync = function(uri){\n",
       "  return new Promise((resolve, reject) => {\n",
       "    var tag = document.createElement('script');\n",
       "    tag.src = uri;\n",
       "    tag.async = true;\n",
       "    tag.onload = () => {\n",
       "      resolve();\n",
       "    };\n",
       "  var firstScriptTag = document.getElementsByTagName('script')[0];\n",
       "  firstScriptTag.parentNode.insertBefore(tag, firstScriptTag);\n",
       "});\n",
       "};\n",
       "\n",
       "if(typeof $3Dmolpromise === 'undefined') {\n",
       "$3Dmolpromise = null;\n",
       "  $3Dmolpromise = loadScriptAsync('https://cdn.jsdelivr.net/npm/3dmol@latest/build/3Dmol-min.min.js');\n",
       "}\n",
       "\n",
       "var viewer_1668807356351697 = null;\n",
       "var warn = document.getElementById(\"3dmolwarning_1668807356351697\");\n",
       "if(warn) {\n",
       "    warn.parentNode.removeChild(warn);\n",
       "}\n",
       "$3Dmolpromise.then(function() {\n",
       "viewer_1668807356351697 = $3Dmol.createViewer($(\"#3dmolviewer_1668807356351697\"),{backgroundColor:\"white\"});\n",
       "viewer_1668807356351697.zoomTo();\n",
       "\tviewer_1668807356351697.addModel(\"@<TRIPOS>MOLECULE\\nRES\\n21 19 1 0 1\\nSMALL\\nNO_CHARGES\\n@<TRIPOS>CRYSIN\\n    7.2000    13.5380     6.6460    90.0000    90.0000    90.0000  1  1\\n@<TRIPOS>ATOM\\n       1 C            0.0000     0.0000     0.0000 C             1 RES     \\n       2 H           -1.1000     0.0000     0.0000 H             1 RES     \\n       3 H            1.1000     0.0000     0.0000 H             1 RES     \\n       4 C           -0.0000    -1.4000     0.0000 C             1 RES     \\n       5 H           -1.1000    -1.4000    -0.0000 H             1 RES     \\n       6 H            1.1000    -1.4000     0.0000 H             1 RES     \\n       7 C           -0.0000    -2.8000     0.0000 C             1 RES     \\n       8 H           -1.1000    -2.8000    -0.0000 H             1 RES     \\n       9 H            1.1000    -2.8000     0.0000 H             1 RES     \\n      10 C           -0.0000    -4.2000     0.0000 C             1 RES     \\n      11 H           -1.1000    -4.2000    -0.0000 H             1 RES     \\n      12 H            1.1000    -4.2000     0.0000 H             1 RES     \\n      13 C            0.0000     1.4000     0.0000 C             1 RES     \\n      14 H            1.0700     1.4000    -0.0000 H             1 RES     \\n      15 H           -0.3570     2.1690     0.6530 H             1 RES     \\n      16 H           -0.3570     1.5810    -0.9930 H             1 RES     \\n      17 C           -0.0000    -5.6000    -0.0000 C             1 RES     \\n      18 H           -1.0700    -5.6000    -0.0000 H             1 RES     \\n      19 H            0.3570    -6.3690     0.6530 H             1 RES     \\n      20 H            0.3570    -5.7810    -0.9930 H             1 RES     \\n      21 He          -0.0000    -2.8000     0.5000 He            1 RES     \\n@<TRIPOS>BOND\\n       1        2        1 1\\n       2        3        1 1\\n       3        4        1 1\\n       4       13        1 1\\n       5        5        4 1\\n       6        6        4 1\\n       7        7        4 1\\n       8        8        7 1\\n       9        9        7 1\\n      10       10        7 1\\n      11       11       10 1\\n      12       12       10 1\\n      13       17       10 1\\n      14       14       13 1\\n      15       15       13 1\\n      16       16       13 1\\n      17       18       17 1\\n      18       19       17 1\\n      19       20       17 1\\n@<TRIPOS>SUBSTRUCTURE\\n       1 RES             1 RESIDUE    0 **** ROOT      0\\n\",\"mol2\");\n",
       "\tviewer_1668807356351697.setStyle({\"stick\": {\"radius\": 0.2, \"color\": \"grey\"}, \"sphere\": {\"scale\": 0.3, \"colorscheme\": {}}});\n",
       "\tviewer_1668807356351697.zoomTo();\n",
       "viewer_1668807356351697.render();\n",
       "});\n",
       "</script>"
      ]
     },
     "metadata": {},
     "output_type": "display_data"
    },
    {
     "data": {
      "text/plain": [
       "<py3Dmol.view at 0x163aa0e80>"
      ]
     },
     "execution_count": 7,
     "metadata": {},
     "output_type": "execute_result"
    }
   ],
   "source": [
    "hexane = Alkane(n=6)\n",
    "\n",
    "helium = mb.Compound(pos=hexane.labels['chain'].labels['monomer'][2].pos+[0.0,0.0,0.05], name='He', element='He')\n",
    "hexane.add(helium)\n",
    "\n",
    "hexane.visualize()"
   ]
  },
  {
   "cell_type": "markdown",
   "id": "3a858bac-4790-40c2-ac38-1af279840aad",
   "metadata": {},
   "source": [
    "If we run the energy minimization and visualize again, we will see that the hexane chain and He atom will be spaced far apart, as being very close together (to the point of overlapping) would be unfavorable."
   ]
  },
  {
   "cell_type": "code",
   "execution_count": 8,
   "id": "e2bbae2e-12a2-4199-bf08-399f931162f2",
   "metadata": {},
   "outputs": [],
   "source": [
    "hexane.energy_minimize()"
   ]
  },
  {
   "cell_type": "code",
   "execution_count": 9,
   "id": "40abf78c-c697-49d9-a43c-a23bab1b75f6",
   "metadata": {},
   "outputs": [
    {
     "data": {
      "application/3dmoljs_load.v0": "<div id=\"3dmolviewer_16688073564246342\"  style=\"position: relative; width: 640px; height: 480px\">\n        <p id=\"3dmolwarning_16688073564246342\" style=\"background-color:#ffcccc;color:black\">You appear to be running in JupyterLab (or JavaScript failed to load for some other reason).  You need to install the 3dmol extension: <br>\n        <tt>jupyter labextension install jupyterlab_3dmol</tt></p>\n        </div>\n<script>\n\nvar loadScriptAsync = function(uri){\n  return new Promise((resolve, reject) => {\n    var tag = document.createElement('script');\n    tag.src = uri;\n    tag.async = true;\n    tag.onload = () => {\n      resolve();\n    };\n  var firstScriptTag = document.getElementsByTagName('script')[0];\n  firstScriptTag.parentNode.insertBefore(tag, firstScriptTag);\n});\n};\n\nif(typeof $3Dmolpromise === 'undefined') {\n$3Dmolpromise = null;\n  $3Dmolpromise = loadScriptAsync('https://cdn.jsdelivr.net/npm/3dmol@latest/build/3Dmol-min.min.js');\n}\n\nvar viewer_16688073564246342 = null;\nvar warn = document.getElementById(\"3dmolwarning_16688073564246342\");\nif(warn) {\n    warn.parentNode.removeChild(warn);\n}\n$3Dmolpromise.then(function() {\nviewer_16688073564246342 = $3Dmol.createViewer($(\"#3dmolviewer_16688073564246342\"),{backgroundColor:\"white\"});\nviewer_16688073564246342.zoomTo();\n\tviewer_16688073564246342.addModel(\"@<TRIPOS>MOLECULE\\nRES\\n21 19 1 0 1\\nSMALL\\nNO_CHARGES\\n@<TRIPOS>CRYSIN\\n    7.8480    12.1010     9.9440    90.0000    90.0000    90.0000  1  1\\n@<TRIPOS>ATOM\\n       1 C           -0.3024    -0.0503     0.4284 C             1 RES     \\n       2 H           -1.4024     0.0627     0.3194 H             1 RES     \\n       3 H            0.0516     0.6827     1.1854 H             1 RES     \\n       4 C            0.0396    -1.4533     0.9314 C             1 RES     \\n       5 H           -0.5504    -1.6623     1.8494 H             1 RES     \\n       6 H            1.1226    -1.5023     1.1814 H             1 RES     \\n       7 C           -0.2564    -2.4793    -0.1506 C             1 RES     \\n       8 H           -1.3244    -2.4123    -0.4576 H             1 RES     \\n       9 H            0.3976    -2.2713    -1.0226 H             1 RES     \\n      10 C            0.0746    -3.8873     0.2624 C             1 RES     \\n      11 H           -0.5934    -4.2213     1.0854 H             1 RES     \\n      12 H            1.1346    -3.9603     0.5934 H             1 RES     \\n      13 C            0.3476     0.2377    -0.9256 C             1 RES     \\n      14 H            1.4456     0.0797    -0.8806 H             1 RES     \\n      15 H            0.1616     1.3017    -1.1816 H             1 RES     \\n      16 H           -0.1034    -0.3493    -1.7526 H             1 RES     \\n      17 C           -0.1124    -4.7433    -0.9686 C             1 RES     \\n      18 H           -1.1644    -4.6973    -1.3276 H             1 RES     \\n      19 H            0.1146    -5.7993    -0.7126 H             1 RES     \\n      20 H            0.5716    -4.4373    -1.7906 H             1 RES     \\n      21 He           0.3486    -3.2383     3.1534 He            1 RES     \\n@<TRIPOS>BOND\\n       1        2        1 1\\n       2        3        1 1\\n       3        4        1 1\\n       4       13        1 1\\n       5        5        4 1\\n       6        6        4 1\\n       7        7        4 1\\n       8        8        7 1\\n       9        9        7 1\\n      10       10        7 1\\n      11       11       10 1\\n      12       12       10 1\\n      13       17       10 1\\n      14       14       13 1\\n      15       15       13 1\\n      16       16       13 1\\n      17       18       17 1\\n      18       19       17 1\\n      19       20       17 1\\n@<TRIPOS>SUBSTRUCTURE\\n       1 RES             1 RESIDUE    0 **** ROOT      0\\n\",\"mol2\");\n\tviewer_16688073564246342.setStyle({\"stick\": {\"radius\": 0.2, \"color\": \"grey\"}, \"sphere\": {\"scale\": 0.3, \"colorscheme\": {}}});\n\tviewer_16688073564246342.zoomTo();\nviewer_16688073564246342.render();\n});\n</script>",
      "text/html": [
       "<div id=\"3dmolviewer_16688073564246342\"  style=\"position: relative; width: 640px; height: 480px\">\n",
       "        <p id=\"3dmolwarning_16688073564246342\" style=\"background-color:#ffcccc;color:black\">You appear to be running in JupyterLab (or JavaScript failed to load for some other reason).  You need to install the 3dmol extension: <br>\n",
       "        <tt>jupyter labextension install jupyterlab_3dmol</tt></p>\n",
       "        </div>\n",
       "<script>\n",
       "\n",
       "var loadScriptAsync = function(uri){\n",
       "  return new Promise((resolve, reject) => {\n",
       "    var tag = document.createElement('script');\n",
       "    tag.src = uri;\n",
       "    tag.async = true;\n",
       "    tag.onload = () => {\n",
       "      resolve();\n",
       "    };\n",
       "  var firstScriptTag = document.getElementsByTagName('script')[0];\n",
       "  firstScriptTag.parentNode.insertBefore(tag, firstScriptTag);\n",
       "});\n",
       "};\n",
       "\n",
       "if(typeof $3Dmolpromise === 'undefined') {\n",
       "$3Dmolpromise = null;\n",
       "  $3Dmolpromise = loadScriptAsync('https://cdn.jsdelivr.net/npm/3dmol@latest/build/3Dmol-min.min.js');\n",
       "}\n",
       "\n",
       "var viewer_16688073564246342 = null;\n",
       "var warn = document.getElementById(\"3dmolwarning_16688073564246342\");\n",
       "if(warn) {\n",
       "    warn.parentNode.removeChild(warn);\n",
       "}\n",
       "$3Dmolpromise.then(function() {\n",
       "viewer_16688073564246342 = $3Dmol.createViewer($(\"#3dmolviewer_16688073564246342\"),{backgroundColor:\"white\"});\n",
       "viewer_16688073564246342.zoomTo();\n",
       "\tviewer_16688073564246342.addModel(\"@<TRIPOS>MOLECULE\\nRES\\n21 19 1 0 1\\nSMALL\\nNO_CHARGES\\n@<TRIPOS>CRYSIN\\n    7.8480    12.1010     9.9440    90.0000    90.0000    90.0000  1  1\\n@<TRIPOS>ATOM\\n       1 C           -0.3024    -0.0503     0.4284 C             1 RES     \\n       2 H           -1.4024     0.0627     0.3194 H             1 RES     \\n       3 H            0.0516     0.6827     1.1854 H             1 RES     \\n       4 C            0.0396    -1.4533     0.9314 C             1 RES     \\n       5 H           -0.5504    -1.6623     1.8494 H             1 RES     \\n       6 H            1.1226    -1.5023     1.1814 H             1 RES     \\n       7 C           -0.2564    -2.4793    -0.1506 C             1 RES     \\n       8 H           -1.3244    -2.4123    -0.4576 H             1 RES     \\n       9 H            0.3976    -2.2713    -1.0226 H             1 RES     \\n      10 C            0.0746    -3.8873     0.2624 C             1 RES     \\n      11 H           -0.5934    -4.2213     1.0854 H             1 RES     \\n      12 H            1.1346    -3.9603     0.5934 H             1 RES     \\n      13 C            0.3476     0.2377    -0.9256 C             1 RES     \\n      14 H            1.4456     0.0797    -0.8806 H             1 RES     \\n      15 H            0.1616     1.3017    -1.1816 H             1 RES     \\n      16 H           -0.1034    -0.3493    -1.7526 H             1 RES     \\n      17 C           -0.1124    -4.7433    -0.9686 C             1 RES     \\n      18 H           -1.1644    -4.6973    -1.3276 H             1 RES     \\n      19 H            0.1146    -5.7993    -0.7126 H             1 RES     \\n      20 H            0.5716    -4.4373    -1.7906 H             1 RES     \\n      21 He           0.3486    -3.2383     3.1534 He            1 RES     \\n@<TRIPOS>BOND\\n       1        2        1 1\\n       2        3        1 1\\n       3        4        1 1\\n       4       13        1 1\\n       5        5        4 1\\n       6        6        4 1\\n       7        7        4 1\\n       8        8        7 1\\n       9        9        7 1\\n      10       10        7 1\\n      11       11       10 1\\n      12       12       10 1\\n      13       17       10 1\\n      14       14       13 1\\n      15       15       13 1\\n      16       16       13 1\\n      17       18       17 1\\n      18       19       17 1\\n      19       20       17 1\\n@<TRIPOS>SUBSTRUCTURE\\n       1 RES             1 RESIDUE    0 **** ROOT      0\\n\",\"mol2\");\n",
       "\tviewer_16688073564246342.setStyle({\"stick\": {\"radius\": 0.2, \"color\": \"grey\"}, \"sphere\": {\"scale\": 0.3, \"colorscheme\": {}}});\n",
       "\tviewer_16688073564246342.zoomTo();\n",
       "viewer_16688073564246342.render();\n",
       "});\n",
       "</script>"
      ]
     },
     "metadata": {},
     "output_type": "display_data"
    },
    {
     "data": {
      "text/plain": [
       "<py3Dmol.view at 0x164c973d0>"
      ]
     },
     "execution_count": 9,
     "metadata": {},
     "output_type": "execute_result"
    }
   ],
   "source": [
    "hexane.visualize()"
   ]
  },
  {
   "cell_type": "markdown",
   "id": "a4324f57-93f3-46dd-9e4a-b0eb0f8b5117",
   "metadata": {},
   "source": [
    "If we instead perform the same operations but specify that we should ignore He via the `ignore_compounds` variable, the optimization will procedure such that the He atom is completely ignore and still sits at in the middle."
   ]
  },
  {
   "cell_type": "code",
   "execution_count": 10,
   "id": "b6bf41d1-674c-484d-82ec-a4d31654c7f6",
   "metadata": {},
   "outputs": [
    {
     "data": {
      "application/3dmoljs_load.v0": "<div id=\"3dmolviewer_16688073565030441\"  style=\"position: relative; width: 640px; height: 480px\">\n        <p id=\"3dmolwarning_16688073565030441\" style=\"background-color:#ffcccc;color:black\">You appear to be running in JupyterLab (or JavaScript failed to load for some other reason).  You need to install the 3dmol extension: <br>\n        <tt>jupyter labextension install jupyterlab_3dmol</tt></p>\n        </div>\n<script>\n\nvar loadScriptAsync = function(uri){\n  return new Promise((resolve, reject) => {\n    var tag = document.createElement('script');\n    tag.src = uri;\n    tag.async = true;\n    tag.onload = () => {\n      resolve();\n    };\n  var firstScriptTag = document.getElementsByTagName('script')[0];\n  firstScriptTag.parentNode.insertBefore(tag, firstScriptTag);\n});\n};\n\nif(typeof $3Dmolpromise === 'undefined') {\n$3Dmolpromise = null;\n  $3Dmolpromise = loadScriptAsync('https://cdn.jsdelivr.net/npm/3dmol@latest/build/3Dmol-min.min.js');\n}\n\nvar viewer_16688073565030441 = null;\nvar warn = document.getElementById(\"3dmolwarning_16688073565030441\");\nif(warn) {\n    warn.parentNode.removeChild(warn);\n}\n$3Dmolpromise.then(function() {\nviewer_16688073565030441 = $3Dmol.createViewer($(\"#3dmolviewer_16688073565030441\"),{backgroundColor:\"white\"});\nviewer_16688073565030441.zoomTo();\n\tviewer_16688073565030441.addModel(\"@<TRIPOS>MOLECULE\\nRES\\n21 19 1 0 1\\nSMALL\\nNO_CHARGES\\n@<TRIPOS>CRYSIN\\n    7.8790    11.4740     9.0410    90.0000    90.0000    90.0000  1  1\\n@<TRIPOS>ATOM\\n       1 C           -0.2570    -0.1920    -0.5940 C             1 RES     \\n       2 H           -1.3560    -0.2350    -0.7510 H             1 RES     \\n       3 H            0.1270     0.6970    -1.1400 H             1 RES     \\n       4 C            0.4230    -1.4210    -1.2350 C             1 RES     \\n       5 H            0.2420    -1.3120    -2.3280 H             1 RES     \\n       6 H            1.5230    -1.3810    -1.0820 H             1 RES     \\n       7 C           -0.1240    -2.8200    -0.8790 C             1 RES     \\n       8 H           -1.2220    -2.8490    -1.0460 H             1 RES     \\n       9 H            0.3490    -3.5240    -1.6000 H             1 RES     \\n      10 C            0.2220    -3.3370     0.5250 C             1 RES     \\n      11 H           -0.2840    -2.7500     1.3050 H             1 RES     \\n      12 H            1.3210    -3.2890     0.6800 H             1 RES     \\n      13 C            0.0590     0.0590     0.8790 C             1 RES     \\n      14 H            1.1580     0.1060     1.0360 H             1 RES     \\n      15 H           -0.3860    -0.6940     1.5450 H             1 RES     \\n      16 H           -0.3800     1.0340     1.1790 H             1 RES     \\n      17 C           -0.2340    -4.7850     0.6950 C             1 RES     \\n      18 H           -1.3340    -4.8610     0.5640 H             1 RES     \\n      19 H            0.0290    -5.1420     1.7130 H             1 RES     \\n      20 H            0.2680    -5.4400    -0.0490 H             1 RES     \\n      21 He          -0.0220    -2.8470     0.4900 He            1 RES     \\n@<TRIPOS>BOND\\n       1        2        1 1\\n       2        3        1 1\\n       3        4        1 1\\n       4       13        1 1\\n       5        5        4 1\\n       6        6        4 1\\n       7        7        4 1\\n       8        8        7 1\\n       9        9        7 1\\n      10       10        7 1\\n      11       11       10 1\\n      12       12       10 1\\n      13       17       10 1\\n      14       14       13 1\\n      15       15       13 1\\n      16       16       13 1\\n      17       18       17 1\\n      18       19       17 1\\n      19       20       17 1\\n@<TRIPOS>SUBSTRUCTURE\\n       1 RES             1 RESIDUE    0 **** ROOT      0\\n\",\"mol2\");\n\tviewer_16688073565030441.setStyle({\"stick\": {\"radius\": 0.2, \"color\": \"grey\"}, \"sphere\": {\"scale\": 0.3, \"colorscheme\": {}}});\n\tviewer_16688073565030441.zoomTo();\nviewer_16688073565030441.render();\n});\n</script>",
      "text/html": [
       "<div id=\"3dmolviewer_16688073565030441\"  style=\"position: relative; width: 640px; height: 480px\">\n",
       "        <p id=\"3dmolwarning_16688073565030441\" style=\"background-color:#ffcccc;color:black\">You appear to be running in JupyterLab (or JavaScript failed to load for some other reason).  You need to install the 3dmol extension: <br>\n",
       "        <tt>jupyter labextension install jupyterlab_3dmol</tt></p>\n",
       "        </div>\n",
       "<script>\n",
       "\n",
       "var loadScriptAsync = function(uri){\n",
       "  return new Promise((resolve, reject) => {\n",
       "    var tag = document.createElement('script');\n",
       "    tag.src = uri;\n",
       "    tag.async = true;\n",
       "    tag.onload = () => {\n",
       "      resolve();\n",
       "    };\n",
       "  var firstScriptTag = document.getElementsByTagName('script')[0];\n",
       "  firstScriptTag.parentNode.insertBefore(tag, firstScriptTag);\n",
       "});\n",
       "};\n",
       "\n",
       "if(typeof $3Dmolpromise === 'undefined') {\n",
       "$3Dmolpromise = null;\n",
       "  $3Dmolpromise = loadScriptAsync('https://cdn.jsdelivr.net/npm/3dmol@latest/build/3Dmol-min.min.js');\n",
       "}\n",
       "\n",
       "var viewer_16688073565030441 = null;\n",
       "var warn = document.getElementById(\"3dmolwarning_16688073565030441\");\n",
       "if(warn) {\n",
       "    warn.parentNode.removeChild(warn);\n",
       "}\n",
       "$3Dmolpromise.then(function() {\n",
       "viewer_16688073565030441 = $3Dmol.createViewer($(\"#3dmolviewer_16688073565030441\"),{backgroundColor:\"white\"});\n",
       "viewer_16688073565030441.zoomTo();\n",
       "\tviewer_16688073565030441.addModel(\"@<TRIPOS>MOLECULE\\nRES\\n21 19 1 0 1\\nSMALL\\nNO_CHARGES\\n@<TRIPOS>CRYSIN\\n    7.8790    11.4740     9.0410    90.0000    90.0000    90.0000  1  1\\n@<TRIPOS>ATOM\\n       1 C           -0.2570    -0.1920    -0.5940 C             1 RES     \\n       2 H           -1.3560    -0.2350    -0.7510 H             1 RES     \\n       3 H            0.1270     0.6970    -1.1400 H             1 RES     \\n       4 C            0.4230    -1.4210    -1.2350 C             1 RES     \\n       5 H            0.2420    -1.3120    -2.3280 H             1 RES     \\n       6 H            1.5230    -1.3810    -1.0820 H             1 RES     \\n       7 C           -0.1240    -2.8200    -0.8790 C             1 RES     \\n       8 H           -1.2220    -2.8490    -1.0460 H             1 RES     \\n       9 H            0.3490    -3.5240    -1.6000 H             1 RES     \\n      10 C            0.2220    -3.3370     0.5250 C             1 RES     \\n      11 H           -0.2840    -2.7500     1.3050 H             1 RES     \\n      12 H            1.3210    -3.2890     0.6800 H             1 RES     \\n      13 C            0.0590     0.0590     0.8790 C             1 RES     \\n      14 H            1.1580     0.1060     1.0360 H             1 RES     \\n      15 H           -0.3860    -0.6940     1.5450 H             1 RES     \\n      16 H           -0.3800     1.0340     1.1790 H             1 RES     \\n      17 C           -0.2340    -4.7850     0.6950 C             1 RES     \\n      18 H           -1.3340    -4.8610     0.5640 H             1 RES     \\n      19 H            0.0290    -5.1420     1.7130 H             1 RES     \\n      20 H            0.2680    -5.4400    -0.0490 H             1 RES     \\n      21 He          -0.0220    -2.8470     0.4900 He            1 RES     \\n@<TRIPOS>BOND\\n       1        2        1 1\\n       2        3        1 1\\n       3        4        1 1\\n       4       13        1 1\\n       5        5        4 1\\n       6        6        4 1\\n       7        7        4 1\\n       8        8        7 1\\n       9        9        7 1\\n      10       10        7 1\\n      11       11       10 1\\n      12       12       10 1\\n      13       17       10 1\\n      14       14       13 1\\n      15       15       13 1\\n      16       16       13 1\\n      17       18       17 1\\n      18       19       17 1\\n      19       20       17 1\\n@<TRIPOS>SUBSTRUCTURE\\n       1 RES             1 RESIDUE    0 **** ROOT      0\\n\",\"mol2\");\n",
       "\tviewer_16688073565030441.setStyle({\"stick\": {\"radius\": 0.2, \"color\": \"grey\"}, \"sphere\": {\"scale\": 0.3, \"colorscheme\": {}}});\n",
       "\tviewer_16688073565030441.zoomTo();\n",
       "viewer_16688073565030441.render();\n",
       "});\n",
       "</script>"
      ]
     },
     "metadata": {},
     "output_type": "display_data"
    },
    {
     "data": {
      "text/plain": [
       "<py3Dmol.view at 0x164d257f0>"
      ]
     },
     "execution_count": 10,
     "metadata": {},
     "output_type": "execute_result"
    }
   ],
   "source": [
    "hexane = Alkane(n=6)\n",
    "\n",
    "helium = mb.Compound(pos=hexane.labels['chain'].labels['monomer'][2].pos+[0.0,0.0,0.05], name='He', element='He')\n",
    "hexane.add(helium)\n",
    "hexane.energy_minimize(shift_com=False, ignore_compounds=[helium])\n",
    "hexane.visualize()"
   ]
  },
  {
   "cell_type": "markdown",
   "id": "127e681f-4440-425f-bc95-25cd00a4a3e8",
   "metadata": {},
   "source": [
    "We can simultaneously ignore a `Compound` and use it within a distance constraint. In such a case, the ignored compound will act as basically a reference point to constrain the optimization. \n",
    "\n",
    "\n",
    "Below, we will ignore the He atom and use it to specify distance constraint with the a terminal carbons, to create a ring-like structure."
   ]
  },
  {
   "cell_type": "code",
   "execution_count": 11,
   "id": "c925fa0c-65dc-4ab7-871e-8a0ab0b8d0c7",
   "metadata": {},
   "outputs": [
    {
     "name": "stdout",
     "output_type": "stream",
     "text": [
      "distance between endpoint0 and ignored helium:  0.10431424\n",
      "distance between endpoint1 and ignored helium:  0.10431055\n"
     ]
    }
   ],
   "source": [
    "hexane = Alkane(n=6)\n",
    "\n",
    "helium = mb.Compound(pos=hexane.labels['chain'].labels['monomer'][2].pos+[0.0,0.0,0.05], name='He', element='He')\n",
    "endpoint0 = hexane.labels['chain'].labels['CH3'][0].labels['C'][0]\n",
    "endpoint1 = hexane.labels['chain'].labels['CH3'][1].labels['C'][0]\n",
    "\n",
    "\n",
    "constraints = [[(helium, endpoint0), 0.1], \n",
    "               [(helium, endpoint1), 0.1],\n",
    "              ]\n",
    "\n",
    "hexane.add(helium)\n",
    "hexane.energy_minimize(steps=10000,shift_com=False, ignore_compounds=helium, distance_constraints=constraints)\n",
    "\n",
    "\n",
    "diff = np.linalg.norm(helium.pos-endpoint0.pos)\n",
    "print(\"distance between endpoint0 and ignored helium: \", diff)\n",
    "\n",
    "diff = np.linalg.norm(helium.pos-endpoint1.pos)\n",
    "print(\"distance between endpoint1 and ignored helium: \", diff)"
   ]
  },
  {
   "cell_type": "code",
   "execution_count": 12,
   "id": "8d5da227-e65d-4162-b38f-9d32ecf13f44",
   "metadata": {},
   "outputs": [
    {
     "data": {
      "application/3dmoljs_load.v0": "<div id=\"3dmolviewer_1668807357059029\"  style=\"position: relative; width: 640px; height: 480px\">\n        <p id=\"3dmolwarning_1668807357059029\" style=\"background-color:#ffcccc;color:black\">You appear to be running in JupyterLab (or JavaScript failed to load for some other reason).  You need to install the 3dmol extension: <br>\n        <tt>jupyter labextension install jupyterlab_3dmol</tt></p>\n        </div>\n<script>\n\nvar loadScriptAsync = function(uri){\n  return new Promise((resolve, reject) => {\n    var tag = document.createElement('script');\n    tag.src = uri;\n    tag.async = true;\n    tag.onload = () => {\n      resolve();\n    };\n  var firstScriptTag = document.getElementsByTagName('script')[0];\n  firstScriptTag.parentNode.insertBefore(tag, firstScriptTag);\n});\n};\n\nif(typeof $3Dmolpromise === 'undefined') {\n$3Dmolpromise = null;\n  $3Dmolpromise = loadScriptAsync('https://cdn.jsdelivr.net/npm/3dmol@latest/build/3Dmol-min.min.js');\n}\n\nvar viewer_1668807357059029 = null;\nvar warn = document.getElementById(\"3dmolwarning_1668807357059029\");\nif(warn) {\n    warn.parentNode.removeChild(warn);\n}\n$3Dmolpromise.then(function() {\nviewer_1668807357059029 = $3Dmol.createViewer($(\"#3dmolviewer_1668807357059029\"),{backgroundColor:\"white\"});\nviewer_1668807357059029.zoomTo();\n\tviewer_1668807357059029.addModel(\"@<TRIPOS>MOLECULE\\nRES\\n21 19 1 0 1\\nSMALL\\nNO_CHARGES\\n@<TRIPOS>CRYSIN\\n    7.8730    10.1910     9.4370    90.0000    90.0000    90.0000  1  1\\n@<TRIPOS>ATOM\\n       1 C            0.3290    -0.6090    -0.2680 C             1 RES     \\n       2 H            0.0300     0.4580    -0.3890 H             1 RES     \\n       3 H            1.4400    -0.6430    -0.2460 H             1 RES     \\n       4 C           -0.1970    -1.3620    -1.4950 C             1 RES     \\n       5 H           -1.3070    -1.2980    -1.5310 H             1 RES     \\n       6 H            0.2030    -0.8560    -2.4010 H             1 RES     \\n       7 C            0.2420    -2.8290    -1.5480 C             1 RES     \\n       8 H           -0.1270    -3.2580    -2.5050 H             1 RES     \\n       9 H            1.3530    -2.8920    -1.5530 H             1 RES     \\n      10 C           -0.3220    -3.6790    -0.4050 C             1 RES     \\n      11 H           -1.4330    -3.6460    -0.4170 H             1 RES     \\n      12 H           -0.0180    -4.7330    -0.6030 H             1 RES     \\n      13 C           -0.2340    -1.1800     1.0550 C             1 RES     \\n      14 H            0.4720    -1.1240     1.9320 H             1 RES     \\n      15 H           -1.3320    -1.4220     1.0270 H             1 RES     \\n      16 H           -0.5630    -0.2290     1.5290 H             1 RES     \\n      17 C            0.1960    -3.2200     0.9780 C             1 RES     \\n      18 H           -0.5370    -3.3460     1.8250 H             1 RES     \\n      19 H            1.2950    -2.9770     1.0050 H             1 RES     \\n      20 H            0.5110    -4.2060     1.3830 H             1 RES     \\n      21 He          -0.0190    -2.2000     1.0160 He            1 RES     \\n@<TRIPOS>BOND\\n       1        2        1 1\\n       2        3        1 1\\n       3        4        1 1\\n       4       13        1 1\\n       5        5        4 1\\n       6        6        4 1\\n       7        7        4 1\\n       8        8        7 1\\n       9        9        7 1\\n      10       10        7 1\\n      11       11       10 1\\n      12       12       10 1\\n      13       17       10 1\\n      14       14       13 1\\n      15       15       13 1\\n      16       16       13 1\\n      17       18       17 1\\n      18       19       17 1\\n      19       20       17 1\\n@<TRIPOS>SUBSTRUCTURE\\n       1 RES             1 RESIDUE    0 **** ROOT      0\\n\",\"mol2\");\n\tviewer_1668807357059029.setStyle({\"stick\": {\"radius\": 0.2, \"color\": \"grey\"}, \"sphere\": {\"scale\": 0.3, \"colorscheme\": {}}});\n\tviewer_1668807357059029.zoomTo();\nviewer_1668807357059029.render();\n});\n</script>",
      "text/html": [
       "<div id=\"3dmolviewer_1668807357059029\"  style=\"position: relative; width: 640px; height: 480px\">\n",
       "        <p id=\"3dmolwarning_1668807357059029\" style=\"background-color:#ffcccc;color:black\">You appear to be running in JupyterLab (or JavaScript failed to load for some other reason).  You need to install the 3dmol extension: <br>\n",
       "        <tt>jupyter labextension install jupyterlab_3dmol</tt></p>\n",
       "        </div>\n",
       "<script>\n",
       "\n",
       "var loadScriptAsync = function(uri){\n",
       "  return new Promise((resolve, reject) => {\n",
       "    var tag = document.createElement('script');\n",
       "    tag.src = uri;\n",
       "    tag.async = true;\n",
       "    tag.onload = () => {\n",
       "      resolve();\n",
       "    };\n",
       "  var firstScriptTag = document.getElementsByTagName('script')[0];\n",
       "  firstScriptTag.parentNode.insertBefore(tag, firstScriptTag);\n",
       "});\n",
       "};\n",
       "\n",
       "if(typeof $3Dmolpromise === 'undefined') {\n",
       "$3Dmolpromise = null;\n",
       "  $3Dmolpromise = loadScriptAsync('https://cdn.jsdelivr.net/npm/3dmol@latest/build/3Dmol-min.min.js');\n",
       "}\n",
       "\n",
       "var viewer_1668807357059029 = null;\n",
       "var warn = document.getElementById(\"3dmolwarning_1668807357059029\");\n",
       "if(warn) {\n",
       "    warn.parentNode.removeChild(warn);\n",
       "}\n",
       "$3Dmolpromise.then(function() {\n",
       "viewer_1668807357059029 = $3Dmol.createViewer($(\"#3dmolviewer_1668807357059029\"),{backgroundColor:\"white\"});\n",
       "viewer_1668807357059029.zoomTo();\n",
       "\tviewer_1668807357059029.addModel(\"@<TRIPOS>MOLECULE\\nRES\\n21 19 1 0 1\\nSMALL\\nNO_CHARGES\\n@<TRIPOS>CRYSIN\\n    7.8730    10.1910     9.4370    90.0000    90.0000    90.0000  1  1\\n@<TRIPOS>ATOM\\n       1 C            0.3290    -0.6090    -0.2680 C             1 RES     \\n       2 H            0.0300     0.4580    -0.3890 H             1 RES     \\n       3 H            1.4400    -0.6430    -0.2460 H             1 RES     \\n       4 C           -0.1970    -1.3620    -1.4950 C             1 RES     \\n       5 H           -1.3070    -1.2980    -1.5310 H             1 RES     \\n       6 H            0.2030    -0.8560    -2.4010 H             1 RES     \\n       7 C            0.2420    -2.8290    -1.5480 C             1 RES     \\n       8 H           -0.1270    -3.2580    -2.5050 H             1 RES     \\n       9 H            1.3530    -2.8920    -1.5530 H             1 RES     \\n      10 C           -0.3220    -3.6790    -0.4050 C             1 RES     \\n      11 H           -1.4330    -3.6460    -0.4170 H             1 RES     \\n      12 H           -0.0180    -4.7330    -0.6030 H             1 RES     \\n      13 C           -0.2340    -1.1800     1.0550 C             1 RES     \\n      14 H            0.4720    -1.1240     1.9320 H             1 RES     \\n      15 H           -1.3320    -1.4220     1.0270 H             1 RES     \\n      16 H           -0.5630    -0.2290     1.5290 H             1 RES     \\n      17 C            0.1960    -3.2200     0.9780 C             1 RES     \\n      18 H           -0.5370    -3.3460     1.8250 H             1 RES     \\n      19 H            1.2950    -2.9770     1.0050 H             1 RES     \\n      20 H            0.5110    -4.2060     1.3830 H             1 RES     \\n      21 He          -0.0190    -2.2000     1.0160 He            1 RES     \\n@<TRIPOS>BOND\\n       1        2        1 1\\n       2        3        1 1\\n       3        4        1 1\\n       4       13        1 1\\n       5        5        4 1\\n       6        6        4 1\\n       7        7        4 1\\n       8        8        7 1\\n       9        9        7 1\\n      10       10        7 1\\n      11       11       10 1\\n      12       12       10 1\\n      13       17       10 1\\n      14       14       13 1\\n      15       15       13 1\\n      16       16       13 1\\n      17       18       17 1\\n      18       19       17 1\\n      19       20       17 1\\n@<TRIPOS>SUBSTRUCTURE\\n       1 RES             1 RESIDUE    0 **** ROOT      0\\n\",\"mol2\");\n",
       "\tviewer_1668807357059029.setStyle({\"stick\": {\"radius\": 0.2, \"color\": \"grey\"}, \"sphere\": {\"scale\": 0.3, \"colorscheme\": {}}});\n",
       "\tviewer_1668807357059029.zoomTo();\n",
       "viewer_1668807357059029.render();\n",
       "});\n",
       "</script>"
      ]
     },
     "metadata": {},
     "output_type": "display_data"
    },
    {
     "data": {
      "text/plain": [
       "<py3Dmol.view at 0x163aadf70>"
      ]
     },
     "execution_count": 12,
     "metadata": {},
     "output_type": "execute_result"
    }
   ],
   "source": [
    "hexane.visualize()"
   ]
  },
  {
   "cell_type": "code",
   "execution_count": null,
   "id": "670e7bb8-8d70-45ab-b420-b6de13e65ad9",
   "metadata": {},
   "outputs": [],
   "source": []
  }
 ],
 "metadata": {
  "kernelspec": {
   "display_name": "Python 3 (ipykernel)",
   "language": "python",
   "name": "python3"
  },
  "language_info": {
   "codemirror_mode": {
    "name": "ipython",
    "version": 3
   },
   "file_extension": ".py",
   "mimetype": "text/x-python",
   "name": "python",
   "nbconvert_exporter": "python",
   "pygments_lexer": "ipython3",
   "version": "3.9.13"
  }
 },
 "nbformat": 4,
 "nbformat_minor": 5
}
