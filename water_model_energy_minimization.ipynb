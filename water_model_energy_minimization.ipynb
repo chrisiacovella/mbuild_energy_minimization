{
 "cells": [
  {
   "cell_type": "code",
   "execution_count": 48,
   "id": "454c0d51-7599-4d1a-8481-760321504023",
   "metadata": {},
   "outputs": [],
   "source": [
    "import mbuild as mb\n",
    "import numpy as np\n",
    "import mbuild.lib.molecules.water as water_models"
   ]
  },
  {
   "cell_type": "markdown",
   "id": "e6d60b23-4262-4f4d-9dcb-e0bf26a2a3d5",
   "metadata": {},
   "source": [
    "## Problem: \n",
    "\n",
    "mBuild Compounds provide a wrapper to openbabel to enable energy minimization, which will by default use the UFF forcefield.  \n",
    "\n",
    "This can be problematic for a rigid molecule like water, as the energy minimization will result in changes to the angle/distances of the atoms in each water molecules, which will not agree with the ultimate force field used in the simulation.\n",
    "\n",
    "While openbabel does support constraints (e.g., bonds and angles), these will not necessarily be exact as the constraints are just really strong harmonic bonds/angles. \n",
    "\n",
    "Let us generate a box of water, energy minimize and look at the distances and angles."
   ]
  },
  {
   "cell_type": "code",
   "execution_count": 49,
   "id": "818ceb4f-6d9e-4b73-affc-ecc97db43f00",
   "metadata": {},
   "outputs": [],
   "source": [
    "# create a water box\n",
    "box_temp = mb.Box([1.0, 1.0, 1.0])\n",
    "\n",
    "# pack a box with water\n",
    "water_system = mb.fill_box(water_models.WaterSPC(), density=1000, overlap=0.22,\n",
    "               edge=0.15, sidemax=box_temp.Lz+1, box=box_temp, seed=1234)\n"
   ]
  },
  {
   "cell_type": "code",
   "execution_count": 50,
   "id": "fbcc42ca-2362-4b1a-8e73-df0c9d96d494",
   "metadata": {},
   "outputs": [],
   "source": [
    "# energy minimize\n",
    "water_system.energy_minimize()"
   ]
  },
  {
   "cell_type": "code",
   "execution_count": 51,
   "id": "4ac78a8f-a8b0-4854-9029-e9836d5e8b26",
   "metadata": {},
   "outputs": [
    {
     "data": {
      "application/3dmoljs_load.v0": "<div id=\"3dmolviewer_1684465931210469\"  style=\"position: relative; width: 640px; height: 480px\">\n        <p id=\"3dmolwarning_1684465931210469\" style=\"background-color:#ffcccc;color:black\">You appear to be running in JupyterLab (or JavaScript failed to load for some other reason).  You need to install the 3dmol extension: <br>\n        <tt>jupyter labextension install jupyterlab_3dmol</tt></p>\n        </div>\n<script>\n\nvar loadScriptAsync = function(uri){\n  return new Promise((resolve, reject) => {\n    //this is to ignore the existence of requirejs amd\n    var savedexports, savedmodule;\n    if (typeof exports !== 'undefined') savedexports = exports;\n    else exports = {}\n    if (typeof module !== 'undefined') savedmodule = module;\n    else module = {}\n\n    var tag = document.createElement('script');\n    tag.src = uri;\n    tag.async = true;\n    tag.onload = () => {\n        exports = savedexports;\n        module = savedmodule;\n        resolve();\n    };\n  var firstScriptTag = document.getElementsByTagName('script')[0];\n  firstScriptTag.parentNode.insertBefore(tag, firstScriptTag);\n});\n};\n\nif(typeof $3Dmolpromise === 'undefined') {\n$3Dmolpromise = null;\n  $3Dmolpromise = loadScriptAsync('https://cdn.jsdelivr.net/npm/3dmol@latest/build/3Dmol-min.min.js');\n}\n\nvar viewer_1684465931210469 = null;\nvar warn = document.getElementById(\"3dmolwarning_1684465931210469\");\nif(warn) {\n    warn.parentNode.removeChild(warn);\n}\n$3Dmolpromise.then(function() {\nviewer_1684465931210469 = $3Dmol.createViewer(document.getElementById(\"3dmolviewer_1684465931210469\"),{backgroundColor:\"white\"});\nviewer_1684465931210469.zoomTo();\n\tviewer_1684465931210469.addModel(\"@<TRIPOS>MOLECULE\\nWaterSPC\\n99 66 33 0 1\\nBIOPOLYMER\\nNO_CHARGES\\n@<TRIPOS>CRYSIN\\n   10.0000    10.0000    10.0000    90.0000    90.0000    90.0000  1  1\\n@<TRIPOS>ATOM\\n       1 OW           3.3091     4.9531     3.6921 OW            1 WaterSPC\\n       2 HW1          3.5660     4.1519     3.1701 HW1           1 WaterSPC\\n       3 HW2          3.7459     5.7069     3.2219 HW2           1 WaterSPC\\n       4 OW           4.3456     9.3229     8.7191 OW            2 WaterSPC\\n       5 HW1          5.3353     9.2987     8.7362 HW1           2 WaterSPC\\n       6 HW2          4.1059     9.0225     7.8067 HW2           2 WaterSPC\\n       7 OW           5.5637     1.8880     0.7339 OW            3 WaterSPC\\n       8 HW1          6.1136     1.9979     1.5498 HW1           3 WaterSPC\\n       9 HW2          5.1477     0.9951     0.8333 HW2           3 WaterSPC\\n      10 OW           4.4709     0.5809     8.7124 OW            4 WaterSPC\\n      11 HW1          5.3642     1.0039     8.6669 HW1           4 WaterSPC\\n      12 HW2          3.8975     1.1479     8.1380 HW2           4 WaterSPC\\n      13 OW           8.5606     1.5143     4.3256 OW            5 WaterSPC\\n      14 HW1          7.5924     1.3083     4.3096 HW1           5 WaterSPC\\n      15 HW2          8.9213     0.9557     5.0590 HW2           5 WaterSPC\\n      16 OW           2.2474     1.5469     0.8675 OW            6 WaterSPC\\n      17 HW1          1.2724     1.6100     1.0278 HW1           6 WaterSPC\\n      18 HW2          2.6085     2.4118     1.1870 HW2           6 WaterSPC\\n      19 OW           9.3950     7.1630     4.8593 OW            7 WaterSPC\\n      20 HW1          8.8737     7.5247     4.0996 HW1           7 WaterSPC\\n      21 HW2          8.9566     6.3012     5.0708 HW2           7 WaterSPC\\n      22 OW           4.7579     3.0500     5.7970 OW            8 WaterSPC\\n      23 HW1          3.7956     2.9371     5.9945 HW1           8 WaterSPC\\n      24 HW2          5.1844     2.2296     6.1549 HW2           8 WaterSPC\\n      25 OW           0.7635     5.0912     5.8811 OW            9 WaterSPC\\n      26 HW1          1.0669     5.8177     5.2818 HW1           9 WaterSPC\\n      27 HW2          1.5907     4.7672     6.3186 HW2           9 WaterSPC\\n      28 OW           4.8752     8.1805     0.4354 OW           10 WaterSPC\\n      29 HW1          5.4838     8.8581     0.8252 HW1          10 WaterSPC\\n      30 HW2          4.5484     7.6610     1.2122 HW2          10 WaterSPC\\n      31 OW           6.2885     4.5943     3.6856 OW           11 WaterSPC\\n      32 HW1          6.9018     5.3723     3.6662 HW1          11 WaterSPC\\n      33 HW2          6.8482     3.8254     3.4204 HW2          11 WaterSPC\\n      34 OW           8.6859     4.6896     9.0860 OW           12 WaterSPC\\n      35 HW1          9.1399     3.8683     8.7705 HW1          12 WaterSPC\\n      36 HW2          8.9046     5.3719     8.4024 HW2          12 WaterSPC\\n      37 OW           2.1919     6.1438     9.3800 OW           13 WaterSPC\\n      38 HW1          1.4413     6.1269     8.7345 HW1          13 WaterSPC\\n      39 HW2          2.8208     6.8134     9.0116 HW2          13 WaterSPC\\n      40 OW           4.7580     3.8001     8.9542 OW           14 WaterSPC\\n      41 HW1          5.6197     3.7840     8.4660 HW1          14 WaterSPC\\n      42 HW2          4.1207     4.2126     8.3177 HW2          14 WaterSPC\\n      43 OW           1.0587     5.0289     1.3548 OW           15 WaterSPC\\n      44 HW1          0.9988     5.5754     2.1784 HW1          15 WaterSPC\\n      45 HW2          2.0183     5.0500     1.1111 HW2          15 WaterSPC\\n      46 OW           6.7165     7.8002     6.5734 OW           16 WaterSPC\\n      47 HW1          6.5651     7.0672     5.9261 HW1          16 WaterSPC\\n      48 HW2          6.1801     8.5566     6.2270 HW2          16 WaterSPC\\n      49 OW           1.6239     8.5224     0.4859 OW           17 WaterSPC\\n      50 HW1          2.0308     7.6571     0.7459 HW1          17 WaterSPC\\n      51 HW2          0.8785     8.6463     1.1253 HW2          17 WaterSPC\\n      52 OW           2.2181     8.0123     3.6081 OW           18 WaterSPC\\n      53 HW1          1.2438     8.0945     3.7633 HW1          18 WaterSPC\\n      54 HW2          2.5681     8.9304     3.7293 HW2          18 WaterSPC\\n      55 OW           9.2076     2.0480     1.2799 OW           19 WaterSPC\\n      56 HW1          8.7115     1.2147     1.4796 HW1          19 WaterSPC\\n      57 HW2          8.5490     2.6233     0.8156 HW2          19 WaterSPC\\n      58 OW           8.4861     8.1125     0.9568 OW           20 WaterSPC\\n      59 HW1          8.6056     8.7263     1.7239 HW1          20 WaterSPC\\n      60 HW2          7.7787     7.4841     1.2487 HW2          20 WaterSPC\\n      61 OW           4.1171     1.0081     3.5405 OW           21 WaterSPC\\n      62 HW1          3.7374     0.6382     4.3765 HW1          21 WaterSPC\\n      63 HW2          5.0871     1.0852     3.7222 HW2          21 WaterSPC\\n      64 OW           6.0528     8.1457     3.4655 OW           22 WaterSPC\\n      65 HW1          5.1800     8.5452     3.7068 HW1          22 WaterSPC\\n      66 HW2          6.6999     8.8885     3.5635 HW2          22 WaterSPC\\n      67 OW           1.1047     1.1849     6.6072 OW           23 WaterSPC\\n      68 HW1          2.0424     1.0330     6.3314 HW1          23 WaterSPC\\n      69 HW2          0.9852     2.1658     6.5453 HW2          23 WaterSPC\\n      70 OW           5.9320     6.5760     9.5439 OW           24 WaterSPC\\n      71 HW1          6.8367     6.8670     9.2673 HW1          24 WaterSPC\\n      72 HW2          5.4196     6.5282     8.6998 HW2          24 WaterSPC\\n      73 OW           8.4906     1.0800     7.9126 OW           25 WaterSPC\\n      74 HW1          7.6261     1.2819     7.4742 HW1          25 WaterSPC\\n      75 HW2          8.3346     1.2760     8.8705 HW2          25 WaterSPC\\n      76 OW           3.7199     6.5730     6.3658 OW           26 WaterSPC\\n      77 HW1          4.3476     5.8191     6.2302 HW1          26 WaterSPC\\n      78 HW2          3.9337     7.2094     5.6394 HW2          26 WaterSPC\\n      79 OW           7.7014     3.7778     6.2556 OW           27 WaterSPC\\n      80 HW1          7.2946     4.6685     6.4007 HW1          27 WaterSPC\\n      81 HW2          8.6271     3.9694     5.9618 HW2          27 WaterSPC\\n      82 OW           5.7511     5.1590     0.5286 OW           28 WaterSPC\\n      83 HW1          4.9643     4.8082     1.0166 HW1          28 WaterSPC\\n      84 HW2          6.5085     4.6082     0.8489 HW2          28 WaterSPC\\n      85 OW           1.3520     2.5645     3.8118 OW           29 WaterSPC\\n      86 HW1          0.5961     3.1538     3.5648 HW1          29 WaterSPC\\n      87 HW2          1.0003     1.6463     3.6968 HW2          29 WaterSPC\\n      88 OW           1.0755     8.4216     6.8934 OW           30 WaterSPC\\n      89 HW1          1.3065     8.6955     7.8163 HW1          30 WaterSPC\\n      90 HW2          1.7505     8.8720     6.3264 HW2          30 WaterSPC\\n      91 OW           9.5054     5.2626     2.2742 OW           31 WaterSPC\\n      92 HW1          9.2607     4.5223     2.8846 HW1          31 WaterSPC\\n      93 HW2          8.9508     5.1145     1.4683 HW2          31 WaterSPC\\n      94 OW           1.7403     2.9376     9.4303 OW           32 WaterSPC\\n      95 HW1          1.2273     3.4403     8.7493 HW1          32 WaterSPC\\n      96 HW2          1.4687     1.9944     9.3004 HW2          32 WaterSPC\\n      97 OW           9.3534     8.4262     7.9834 OW           33 WaterSPC\\n      98 HW1          9.2071     8.9854     7.1793 HW1          33 WaterSPC\\n      99 HW2          8.6108     8.6688     8.5919 HW2          33 WaterSPC\\n@<TRIPOS>BOND\\n       1        1        2 1\\n       2        1        3 1\\n       3        4        5 1\\n       4        4        6 1\\n       5        7        8 1\\n       6        7        9 1\\n       7       10       11 1\\n       8       10       12 1\\n       9       13       14 1\\n      10       13       15 1\\n      11       16       17 1\\n      12       16       18 1\\n      13       19       20 1\\n      14       19       21 1\\n      15       22       23 1\\n      16       22       24 1\\n      17       25       26 1\\n      18       25       27 1\\n      19       28       29 1\\n      20       28       30 1\\n      21       31       32 1\\n      22       31       33 1\\n      23       34       35 1\\n      24       34       36 1\\n      25       37       38 1\\n      26       37       39 1\\n      27       40       41 1\\n      28       40       42 1\\n      29       43       44 1\\n      30       43       45 1\\n      31       46       47 1\\n      32       46       48 1\\n      33       49       50 1\\n      34       49       51 1\\n      35       52       53 1\\n      36       52       54 1\\n      37       55       56 1\\n      38       55       57 1\\n      39       58       59 1\\n      40       58       60 1\\n      41       61       62 1\\n      42       61       63 1\\n      43       64       65 1\\n      44       64       66 1\\n      45       67       68 1\\n      46       67       69 1\\n      47       70       71 1\\n      48       70       72 1\\n      49       73       74 1\\n      50       73       75 1\\n      51       76       77 1\\n      52       76       78 1\\n      53       79       80 1\\n      54       79       81 1\\n      55       82       83 1\\n      56       82       84 1\\n      57       85       86 1\\n      58       85       87 1\\n      59       88       89 1\\n      60       88       90 1\\n      61       91       92 1\\n      62       91       93 1\\n      63       94       95 1\\n      64       94       96 1\\n      65       97       98 1\\n      66       97       99 1\\n@<TRIPOS>SUBSTRUCTURE\\n       1 WaterSPC        1 RESIDUE    0 **** ROOT      0\\n       2 WaterSPC        4 RESIDUE    0 **** ROOT      0\\n       3 WaterSPC        7 RESIDUE    0 **** ROOT      0\\n       4 WaterSPC       10 RESIDUE    0 **** ROOT      0\\n       5 WaterSPC       13 RESIDUE    0 **** ROOT      0\\n       6 WaterSPC       16 RESIDUE    0 **** ROOT      0\\n       7 WaterSPC       19 RESIDUE    0 **** ROOT      0\\n       8 WaterSPC       22 RESIDUE    0 **** ROOT      0\\n       9 WaterSPC       25 RESIDUE    0 **** ROOT      0\\n      10 WaterSPC       28 RESIDUE    0 **** ROOT      0\\n      11 WaterSPC       31 RESIDUE    0 **** ROOT      0\\n      12 WaterSPC       34 RESIDUE    0 **** ROOT      0\\n      13 WaterSPC       37 RESIDUE    0 **** ROOT      0\\n      14 WaterSPC       40 RESIDUE    0 **** ROOT      0\\n      15 WaterSPC       43 RESIDUE    0 **** ROOT      0\\n      16 WaterSPC       46 RESIDUE    0 **** ROOT      0\\n      17 WaterSPC       49 RESIDUE    0 **** ROOT      0\\n      18 WaterSPC       52 RESIDUE    0 **** ROOT      0\\n      19 WaterSPC       55 RESIDUE    0 **** ROOT      0\\n      20 WaterSPC       58 RESIDUE    0 **** ROOT      0\\n      21 WaterSPC       61 RESIDUE    0 **** ROOT      0\\n      22 WaterSPC       64 RESIDUE    0 **** ROOT      0\\n      23 WaterSPC       67 RESIDUE    0 **** ROOT      0\\n      24 WaterSPC       70 RESIDUE    0 **** ROOT      0\\n      25 WaterSPC       73 RESIDUE    0 **** ROOT      0\\n      26 WaterSPC       76 RESIDUE    0 **** ROOT      0\\n      27 WaterSPC       79 RESIDUE    0 **** ROOT      0\\n      28 WaterSPC       82 RESIDUE    0 **** ROOT      0\\n      29 WaterSPC       85 RESIDUE    0 **** ROOT      0\\n      30 WaterSPC       88 RESIDUE    0 **** ROOT      0\\n      31 WaterSPC       91 RESIDUE    0 **** ROOT      0\\n      32 WaterSPC       94 RESIDUE    0 **** ROOT      0\\n      33 WaterSPC       97 RESIDUE    0 **** ROOT      0\\n\",\"mol2\");\n\tviewer_1684465931210469.setStyle({\"stick\": {\"radius\": 0.2, \"color\": \"grey\"}, \"sphere\": {\"scale\": 0.3, \"colorscheme\": {}}});\n\tviewer_1684465931210469.zoomTo();\nviewer_1684465931210469.render();\n});\n</script>",
      "text/html": [
       "<div id=\"3dmolviewer_1684465931210469\"  style=\"position: relative; width: 640px; height: 480px\">\n",
       "        <p id=\"3dmolwarning_1684465931210469\" style=\"background-color:#ffcccc;color:black\">You appear to be running in JupyterLab (or JavaScript failed to load for some other reason).  You need to install the 3dmol extension: <br>\n",
       "        <tt>jupyter labextension install jupyterlab_3dmol</tt></p>\n",
       "        </div>\n",
       "<script>\n",
       "\n",
       "var loadScriptAsync = function(uri){\n",
       "  return new Promise((resolve, reject) => {\n",
       "    //this is to ignore the existence of requirejs amd\n",
       "    var savedexports, savedmodule;\n",
       "    if (typeof exports !== 'undefined') savedexports = exports;\n",
       "    else exports = {}\n",
       "    if (typeof module !== 'undefined') savedmodule = module;\n",
       "    else module = {}\n",
       "\n",
       "    var tag = document.createElement('script');\n",
       "    tag.src = uri;\n",
       "    tag.async = true;\n",
       "    tag.onload = () => {\n",
       "        exports = savedexports;\n",
       "        module = savedmodule;\n",
       "        resolve();\n",
       "    };\n",
       "  var firstScriptTag = document.getElementsByTagName('script')[0];\n",
       "  firstScriptTag.parentNode.insertBefore(tag, firstScriptTag);\n",
       "});\n",
       "};\n",
       "\n",
       "if(typeof $3Dmolpromise === 'undefined') {\n",
       "$3Dmolpromise = null;\n",
       "  $3Dmolpromise = loadScriptAsync('https://cdn.jsdelivr.net/npm/3dmol@latest/build/3Dmol-min.min.js');\n",
       "}\n",
       "\n",
       "var viewer_1684465931210469 = null;\n",
       "var warn = document.getElementById(\"3dmolwarning_1684465931210469\");\n",
       "if(warn) {\n",
       "    warn.parentNode.removeChild(warn);\n",
       "}\n",
       "$3Dmolpromise.then(function() {\n",
       "viewer_1684465931210469 = $3Dmol.createViewer(document.getElementById(\"3dmolviewer_1684465931210469\"),{backgroundColor:\"white\"});\n",
       "viewer_1684465931210469.zoomTo();\n",
       "\tviewer_1684465931210469.addModel(\"@<TRIPOS>MOLECULE\\nWaterSPC\\n99 66 33 0 1\\nBIOPOLYMER\\nNO_CHARGES\\n@<TRIPOS>CRYSIN\\n   10.0000    10.0000    10.0000    90.0000    90.0000    90.0000  1  1\\n@<TRIPOS>ATOM\\n       1 OW           3.3091     4.9531     3.6921 OW            1 WaterSPC\\n       2 HW1          3.5660     4.1519     3.1701 HW1           1 WaterSPC\\n       3 HW2          3.7459     5.7069     3.2219 HW2           1 WaterSPC\\n       4 OW           4.3456     9.3229     8.7191 OW            2 WaterSPC\\n       5 HW1          5.3353     9.2987     8.7362 HW1           2 WaterSPC\\n       6 HW2          4.1059     9.0225     7.8067 HW2           2 WaterSPC\\n       7 OW           5.5637     1.8880     0.7339 OW            3 WaterSPC\\n       8 HW1          6.1136     1.9979     1.5498 HW1           3 WaterSPC\\n       9 HW2          5.1477     0.9951     0.8333 HW2           3 WaterSPC\\n      10 OW           4.4709     0.5809     8.7124 OW            4 WaterSPC\\n      11 HW1          5.3642     1.0039     8.6669 HW1           4 WaterSPC\\n      12 HW2          3.8975     1.1479     8.1380 HW2           4 WaterSPC\\n      13 OW           8.5606     1.5143     4.3256 OW            5 WaterSPC\\n      14 HW1          7.5924     1.3083     4.3096 HW1           5 WaterSPC\\n      15 HW2          8.9213     0.9557     5.0590 HW2           5 WaterSPC\\n      16 OW           2.2474     1.5469     0.8675 OW            6 WaterSPC\\n      17 HW1          1.2724     1.6100     1.0278 HW1           6 WaterSPC\\n      18 HW2          2.6085     2.4118     1.1870 HW2           6 WaterSPC\\n      19 OW           9.3950     7.1630     4.8593 OW            7 WaterSPC\\n      20 HW1          8.8737     7.5247     4.0996 HW1           7 WaterSPC\\n      21 HW2          8.9566     6.3012     5.0708 HW2           7 WaterSPC\\n      22 OW           4.7579     3.0500     5.7970 OW            8 WaterSPC\\n      23 HW1          3.7956     2.9371     5.9945 HW1           8 WaterSPC\\n      24 HW2          5.1844     2.2296     6.1549 HW2           8 WaterSPC\\n      25 OW           0.7635     5.0912     5.8811 OW            9 WaterSPC\\n      26 HW1          1.0669     5.8177     5.2818 HW1           9 WaterSPC\\n      27 HW2          1.5907     4.7672     6.3186 HW2           9 WaterSPC\\n      28 OW           4.8752     8.1805     0.4354 OW           10 WaterSPC\\n      29 HW1          5.4838     8.8581     0.8252 HW1          10 WaterSPC\\n      30 HW2          4.5484     7.6610     1.2122 HW2          10 WaterSPC\\n      31 OW           6.2885     4.5943     3.6856 OW           11 WaterSPC\\n      32 HW1          6.9018     5.3723     3.6662 HW1          11 WaterSPC\\n      33 HW2          6.8482     3.8254     3.4204 HW2          11 WaterSPC\\n      34 OW           8.6859     4.6896     9.0860 OW           12 WaterSPC\\n      35 HW1          9.1399     3.8683     8.7705 HW1          12 WaterSPC\\n      36 HW2          8.9046     5.3719     8.4024 HW2          12 WaterSPC\\n      37 OW           2.1919     6.1438     9.3800 OW           13 WaterSPC\\n      38 HW1          1.4413     6.1269     8.7345 HW1          13 WaterSPC\\n      39 HW2          2.8208     6.8134     9.0116 HW2          13 WaterSPC\\n      40 OW           4.7580     3.8001     8.9542 OW           14 WaterSPC\\n      41 HW1          5.6197     3.7840     8.4660 HW1          14 WaterSPC\\n      42 HW2          4.1207     4.2126     8.3177 HW2          14 WaterSPC\\n      43 OW           1.0587     5.0289     1.3548 OW           15 WaterSPC\\n      44 HW1          0.9988     5.5754     2.1784 HW1          15 WaterSPC\\n      45 HW2          2.0183     5.0500     1.1111 HW2          15 WaterSPC\\n      46 OW           6.7165     7.8002     6.5734 OW           16 WaterSPC\\n      47 HW1          6.5651     7.0672     5.9261 HW1          16 WaterSPC\\n      48 HW2          6.1801     8.5566     6.2270 HW2          16 WaterSPC\\n      49 OW           1.6239     8.5224     0.4859 OW           17 WaterSPC\\n      50 HW1          2.0308     7.6571     0.7459 HW1          17 WaterSPC\\n      51 HW2          0.8785     8.6463     1.1253 HW2          17 WaterSPC\\n      52 OW           2.2181     8.0123     3.6081 OW           18 WaterSPC\\n      53 HW1          1.2438     8.0945     3.7633 HW1          18 WaterSPC\\n      54 HW2          2.5681     8.9304     3.7293 HW2          18 WaterSPC\\n      55 OW           9.2076     2.0480     1.2799 OW           19 WaterSPC\\n      56 HW1          8.7115     1.2147     1.4796 HW1          19 WaterSPC\\n      57 HW2          8.5490     2.6233     0.8156 HW2          19 WaterSPC\\n      58 OW           8.4861     8.1125     0.9568 OW           20 WaterSPC\\n      59 HW1          8.6056     8.7263     1.7239 HW1          20 WaterSPC\\n      60 HW2          7.7787     7.4841     1.2487 HW2          20 WaterSPC\\n      61 OW           4.1171     1.0081     3.5405 OW           21 WaterSPC\\n      62 HW1          3.7374     0.6382     4.3765 HW1          21 WaterSPC\\n      63 HW2          5.0871     1.0852     3.7222 HW2          21 WaterSPC\\n      64 OW           6.0528     8.1457     3.4655 OW           22 WaterSPC\\n      65 HW1          5.1800     8.5452     3.7068 HW1          22 WaterSPC\\n      66 HW2          6.6999     8.8885     3.5635 HW2          22 WaterSPC\\n      67 OW           1.1047     1.1849     6.6072 OW           23 WaterSPC\\n      68 HW1          2.0424     1.0330     6.3314 HW1          23 WaterSPC\\n      69 HW2          0.9852     2.1658     6.5453 HW2          23 WaterSPC\\n      70 OW           5.9320     6.5760     9.5439 OW           24 WaterSPC\\n      71 HW1          6.8367     6.8670     9.2673 HW1          24 WaterSPC\\n      72 HW2          5.4196     6.5282     8.6998 HW2          24 WaterSPC\\n      73 OW           8.4906     1.0800     7.9126 OW           25 WaterSPC\\n      74 HW1          7.6261     1.2819     7.4742 HW1          25 WaterSPC\\n      75 HW2          8.3346     1.2760     8.8705 HW2          25 WaterSPC\\n      76 OW           3.7199     6.5730     6.3658 OW           26 WaterSPC\\n      77 HW1          4.3476     5.8191     6.2302 HW1          26 WaterSPC\\n      78 HW2          3.9337     7.2094     5.6394 HW2          26 WaterSPC\\n      79 OW           7.7014     3.7778     6.2556 OW           27 WaterSPC\\n      80 HW1          7.2946     4.6685     6.4007 HW1          27 WaterSPC\\n      81 HW2          8.6271     3.9694     5.9618 HW2          27 WaterSPC\\n      82 OW           5.7511     5.1590     0.5286 OW           28 WaterSPC\\n      83 HW1          4.9643     4.8082     1.0166 HW1          28 WaterSPC\\n      84 HW2          6.5085     4.6082     0.8489 HW2          28 WaterSPC\\n      85 OW           1.3520     2.5645     3.8118 OW           29 WaterSPC\\n      86 HW1          0.5961     3.1538     3.5648 HW1          29 WaterSPC\\n      87 HW2          1.0003     1.6463     3.6968 HW2          29 WaterSPC\\n      88 OW           1.0755     8.4216     6.8934 OW           30 WaterSPC\\n      89 HW1          1.3065     8.6955     7.8163 HW1          30 WaterSPC\\n      90 HW2          1.7505     8.8720     6.3264 HW2          30 WaterSPC\\n      91 OW           9.5054     5.2626     2.2742 OW           31 WaterSPC\\n      92 HW1          9.2607     4.5223     2.8846 HW1          31 WaterSPC\\n      93 HW2          8.9508     5.1145     1.4683 HW2          31 WaterSPC\\n      94 OW           1.7403     2.9376     9.4303 OW           32 WaterSPC\\n      95 HW1          1.2273     3.4403     8.7493 HW1          32 WaterSPC\\n      96 HW2          1.4687     1.9944     9.3004 HW2          32 WaterSPC\\n      97 OW           9.3534     8.4262     7.9834 OW           33 WaterSPC\\n      98 HW1          9.2071     8.9854     7.1793 HW1          33 WaterSPC\\n      99 HW2          8.6108     8.6688     8.5919 HW2          33 WaterSPC\\n@<TRIPOS>BOND\\n       1        1        2 1\\n       2        1        3 1\\n       3        4        5 1\\n       4        4        6 1\\n       5        7        8 1\\n       6        7        9 1\\n       7       10       11 1\\n       8       10       12 1\\n       9       13       14 1\\n      10       13       15 1\\n      11       16       17 1\\n      12       16       18 1\\n      13       19       20 1\\n      14       19       21 1\\n      15       22       23 1\\n      16       22       24 1\\n      17       25       26 1\\n      18       25       27 1\\n      19       28       29 1\\n      20       28       30 1\\n      21       31       32 1\\n      22       31       33 1\\n      23       34       35 1\\n      24       34       36 1\\n      25       37       38 1\\n      26       37       39 1\\n      27       40       41 1\\n      28       40       42 1\\n      29       43       44 1\\n      30       43       45 1\\n      31       46       47 1\\n      32       46       48 1\\n      33       49       50 1\\n      34       49       51 1\\n      35       52       53 1\\n      36       52       54 1\\n      37       55       56 1\\n      38       55       57 1\\n      39       58       59 1\\n      40       58       60 1\\n      41       61       62 1\\n      42       61       63 1\\n      43       64       65 1\\n      44       64       66 1\\n      45       67       68 1\\n      46       67       69 1\\n      47       70       71 1\\n      48       70       72 1\\n      49       73       74 1\\n      50       73       75 1\\n      51       76       77 1\\n      52       76       78 1\\n      53       79       80 1\\n      54       79       81 1\\n      55       82       83 1\\n      56       82       84 1\\n      57       85       86 1\\n      58       85       87 1\\n      59       88       89 1\\n      60       88       90 1\\n      61       91       92 1\\n      62       91       93 1\\n      63       94       95 1\\n      64       94       96 1\\n      65       97       98 1\\n      66       97       99 1\\n@<TRIPOS>SUBSTRUCTURE\\n       1 WaterSPC        1 RESIDUE    0 **** ROOT      0\\n       2 WaterSPC        4 RESIDUE    0 **** ROOT      0\\n       3 WaterSPC        7 RESIDUE    0 **** ROOT      0\\n       4 WaterSPC       10 RESIDUE    0 **** ROOT      0\\n       5 WaterSPC       13 RESIDUE    0 **** ROOT      0\\n       6 WaterSPC       16 RESIDUE    0 **** ROOT      0\\n       7 WaterSPC       19 RESIDUE    0 **** ROOT      0\\n       8 WaterSPC       22 RESIDUE    0 **** ROOT      0\\n       9 WaterSPC       25 RESIDUE    0 **** ROOT      0\\n      10 WaterSPC       28 RESIDUE    0 **** ROOT      0\\n      11 WaterSPC       31 RESIDUE    0 **** ROOT      0\\n      12 WaterSPC       34 RESIDUE    0 **** ROOT      0\\n      13 WaterSPC       37 RESIDUE    0 **** ROOT      0\\n      14 WaterSPC       40 RESIDUE    0 **** ROOT      0\\n      15 WaterSPC       43 RESIDUE    0 **** ROOT      0\\n      16 WaterSPC       46 RESIDUE    0 **** ROOT      0\\n      17 WaterSPC       49 RESIDUE    0 **** ROOT      0\\n      18 WaterSPC       52 RESIDUE    0 **** ROOT      0\\n      19 WaterSPC       55 RESIDUE    0 **** ROOT      0\\n      20 WaterSPC       58 RESIDUE    0 **** ROOT      0\\n      21 WaterSPC       61 RESIDUE    0 **** ROOT      0\\n      22 WaterSPC       64 RESIDUE    0 **** ROOT      0\\n      23 WaterSPC       67 RESIDUE    0 **** ROOT      0\\n      24 WaterSPC       70 RESIDUE    0 **** ROOT      0\\n      25 WaterSPC       73 RESIDUE    0 **** ROOT      0\\n      26 WaterSPC       76 RESIDUE    0 **** ROOT      0\\n      27 WaterSPC       79 RESIDUE    0 **** ROOT      0\\n      28 WaterSPC       82 RESIDUE    0 **** ROOT      0\\n      29 WaterSPC       85 RESIDUE    0 **** ROOT      0\\n      30 WaterSPC       88 RESIDUE    0 **** ROOT      0\\n      31 WaterSPC       91 RESIDUE    0 **** ROOT      0\\n      32 WaterSPC       94 RESIDUE    0 **** ROOT      0\\n      33 WaterSPC       97 RESIDUE    0 **** ROOT      0\\n\",\"mol2\");\n",
       "\tviewer_1684465931210469.setStyle({\"stick\": {\"radius\": 0.2, \"color\": \"grey\"}, \"sphere\": {\"scale\": 0.3, \"colorscheme\": {}}});\n",
       "\tviewer_1684465931210469.zoomTo();\n",
       "viewer_1684465931210469.render();\n",
       "});\n",
       "</script>"
      ]
     },
     "metadata": {},
     "output_type": "display_data"
    },
    {
     "data": {
      "text/plain": [
       "<py3Dmol.view at 0x1234e5520>"
      ]
     },
     "execution_count": 51,
     "metadata": {},
     "output_type": "execute_result"
    }
   ],
   "source": [
    "water_system.visualize()"
   ]
  },
  {
   "cell_type": "code",
   "execution_count": 53,
   "id": "13e006a0-e605-48e3-9f28-059ee979b92f",
   "metadata": {},
   "outputs": [],
   "source": [
    "water_system.save('config1.mol2', overwrite=True)"
   ]
  },
  {
   "cell_type": "code",
   "execution_count": 54,
   "id": "09d44fad-9eec-4d13-b7b1-dc5e2d878c1f",
   "metadata": {},
   "outputs": [],
   "source": [
    "def angle_between(v1, v2):\n",
    "    v1_u = v1/np.linalg.norm(v1)\n",
    "    v2_u = v2/np.linalg.norm(v2)\n",
    "    return np.arccos(np.clip(np.dot(v1_u, v2_u), -1.0, 1.0))*180.0/np.pi\n",
    "\n",
    "#now let us see how messed up the angles and distances are after energy minimizing with UFF\n",
    "angles = []\n",
    "dists = []\n",
    "for water in water_system.children:\n",
    "    #the first particle is oxygen in the molecule\n",
    "    v1 = water.children[1].pos - water.children[0].pos\n",
    "    v2 = water.children[2].pos - water.children[0].pos\n",
    "    dists.append(np.linalg.norm(v1))\n",
    "    dists.append(np.linalg.norm(v2))\n",
    "    angles.append(angle_between(v1,v2))"
   ]
  },
  {
   "cell_type": "markdown",
   "id": "20ac3b76-e77f-40bf-9342-61ea2f91b846",
   "metadata": {},
   "source": [
    "Let us look at the mean values for the angles and bond distances, which we note for SPC are 109.47 deg and 0.1 nm."
   ]
  },
  {
   "cell_type": "code",
   "execution_count": 55,
   "id": "9c41a54d-1ac9-41a0-971e-d9058a8d11f4",
   "metadata": {},
   "outputs": [
    {
     "name": "stdout",
     "output_type": "stream",
     "text": [
      "104.5402  deg\n",
      "0.098995  nm\n"
     ]
    }
   ],
   "source": [
    "print(np.array(angles).mean().round(4), \" deg\")\n",
    "print(np.array(dists).mean().round(6), \" nm\")"
   ]
  },
  {
   "cell_type": "markdown",
   "id": "aa0b9cd9-1ddc-4de9-ab62-3e35b4a8ecf5",
   "metadata": {},
   "source": [
    "## Solution\n",
    "\n",
    "We can use force_overlap routine (with add_bond=False) to translate and orient a copy of our original water model to each of the waters in the energy minimized configuration.  \n",
    "\n",
    "We can either create a new system and add each of these reoriented/translated water molecules (with correct angdles/distances) or just reassign the coordinates in the original compound.  Below I do the second approach. "
   ]
  },
  {
   "cell_type": "code",
   "execution_count": 56,
   "id": "ba58f3b8-f4c4-491e-b5e4-768e565df826",
   "metadata": {},
   "outputs": [],
   "source": [
    "spc = water_models.WaterSPC()\n",
    "for water in water_system.children:\n",
    "\n",
    "    temp = mb.clone(spc)\n",
    "    mb.force_overlap(temp, temp, water, add_bond=False)\n",
    "    water.xyz = temp.xyz\n",
    "    \n"
   ]
  },
  {
   "cell_type": "code",
   "execution_count": 57,
   "id": "28eb25fc-9255-4bbd-95cb-e7cf2a2522a7",
   "metadata": {},
   "outputs": [
    {
     "data": {
      "application/3dmoljs_load.v0": "<div id=\"3dmolviewer_1684465964518164\"  style=\"position: relative; width: 640px; height: 480px\">\n        <p id=\"3dmolwarning_1684465964518164\" style=\"background-color:#ffcccc;color:black\">You appear to be running in JupyterLab (or JavaScript failed to load for some other reason).  You need to install the 3dmol extension: <br>\n        <tt>jupyter labextension install jupyterlab_3dmol</tt></p>\n        </div>\n<script>\n\nvar loadScriptAsync = function(uri){\n  return new Promise((resolve, reject) => {\n    //this is to ignore the existence of requirejs amd\n    var savedexports, savedmodule;\n    if (typeof exports !== 'undefined') savedexports = exports;\n    else exports = {}\n    if (typeof module !== 'undefined') savedmodule = module;\n    else module = {}\n\n    var tag = document.createElement('script');\n    tag.src = uri;\n    tag.async = true;\n    tag.onload = () => {\n        exports = savedexports;\n        module = savedmodule;\n        resolve();\n    };\n  var firstScriptTag = document.getElementsByTagName('script')[0];\n  firstScriptTag.parentNode.insertBefore(tag, firstScriptTag);\n});\n};\n\nif(typeof $3Dmolpromise === 'undefined') {\n$3Dmolpromise = null;\n  $3Dmolpromise = loadScriptAsync('https://cdn.jsdelivr.net/npm/3dmol@latest/build/3Dmol-min.min.js');\n}\n\nvar viewer_1684465964518164 = null;\nvar warn = document.getElementById(\"3dmolwarning_1684465964518164\");\nif(warn) {\n    warn.parentNode.removeChild(warn);\n}\n$3Dmolpromise.then(function() {\nviewer_1684465964518164 = $3Dmol.createViewer(document.getElementById(\"3dmolviewer_1684465964518164\"),{backgroundColor:\"white\"});\nviewer_1684465964518164.zoomTo();\n\tviewer_1684465964518164.addModel(\"@<TRIPOS>MOLECULE\\nWaterSPC\\n99 66 33 0 1\\nBIOPOLYMER\\nNO_CHARGES\\n@<TRIPOS>CRYSIN\\n   10.0000    10.0000    10.0000    90.0000    90.0000    90.0000  1  1\\n@<TRIPOS>ATOM\\n       1 OW           3.3199     4.9523     3.6766 OW            1 WaterSPC\\n       2 HW1          3.5568     4.1192     3.1768 HW1           1 WaterSPC\\n       3 HW2          3.7443     5.7404     3.2308 HW2           1 WaterSPC\\n       4 OW           4.3575     9.3178     8.7050 OW            2 WaterSPC\\n       5 HW1          5.3557     9.3072     8.7632 HW1           2 WaterSPC\\n       6 HW2          4.0736     9.0191     7.7938 HW2           2 WaterSPC\\n       7 OW           5.5658     1.8757     0.7483 OW            3 WaterSPC\\n       8 HW1          6.1333     2.0256     1.5579 HW1           3 WaterSPC\\n       9 HW2          5.1260     0.9798     0.8108 HW2           3 WaterSPC\\n      10 OW           4.4757     0.5963     8.7027 OW            4 WaterSPC\\n      11 HW1          5.3933     0.9932     8.6830 HW1           4 WaterSPC\\n      12 HW2          3.8636     1.1433     8.1316 HW2           4 WaterSPC\\n      13 OW           8.5510     1.5023     4.3368 OW            5 WaterSPC\\n      14 HW1          7.5687     1.3219     4.2879 HW1           5 WaterSPC\\n      15 HW2          8.9545     0.9542     5.0694 HW2           5 WaterSPC\\n      16 OW           2.2378     1.5615     0.8750 OW            6 WaterSPC\\n      17 HW1          1.2488     1.5857     1.0206 HW1           6 WaterSPC\\n      18 HW2          2.6417     2.4216     1.1866 HW2           6 WaterSPC\\n      19 OW           9.3796     7.1550     4.8505 OW            7 WaterSPC\\n      20 HW1          8.8796     7.5556     4.0827 HW1           7 WaterSPC\\n      21 HW2          8.9661     6.2784     5.0966 HW2           7 WaterSPC\\n      22 OW           4.7504     3.0351     5.8057 OW            8 WaterSPC\\n      23 HW1          3.7699     2.9592     5.9869 HW1           8 WaterSPC\\n      24 HW2          5.2177     2.2224     6.1537 HW2           8 WaterSPC\\n      25 OW           0.7811     5.0973     5.8788 OW            9 WaterSPC\\n      26 HW1          1.0470     5.8371     5.2608 HW1           9 WaterSPC\\n      27 HW2          1.5930     4.7418     6.3419 HW2           9 WaterSPC\\n      28 OW           4.8797     8.1831     0.4533 OW           10 WaterSPC\\n      29 HW1          5.5010     8.8817     0.8082 HW1          10 WaterSPC\\n      30 HW2          4.5267     7.6348     1.2114 HW2          10 WaterSPC\\n      31 OW           6.3055     4.5956     3.6817 OW           11 WaterSPC\\n      32 HW1          6.8940     5.4041     3.6735 HW1          11 WaterSPC\\n      33 HW2          6.8390     3.7923     3.4171 HW2          11 WaterSPC\\n      34 OW           8.6966     4.6875     9.0701 OW           12 WaterSPC\\n      35 HW1          9.1396     3.8371     8.7863 HW1          12 WaterSPC\\n      36 HW2          8.8942     5.4052     8.4025 HW2          12 WaterSPC\\n      37 OW           2.1898     6.1540     9.3640 OW           13 WaterSPC\\n      38 HW1          1.4126     6.1069     8.7365 HW1          13 WaterSPC\\n      39 HW2          2.8515     6.8231     9.0255 HW2          13 WaterSPC\\n      40 OW           4.7616     3.8065     8.9361 OW           14 WaterSPC\\n      41 HW1          5.6499     3.7717     8.4782 HW1          14 WaterSPC\\n      42 HW2          4.0869     4.2185     8.3236 HW2          14 WaterSPC\\n      43 OW           1.0728     5.0378     1.3638 OW           15 WaterSPC\\n      44 HW1          0.9702     5.5820     2.1964 HW1          15 WaterSPC\\n      45 HW2          2.0328     5.0345     1.0840 HW2          15 WaterSPC\\n      46 OW           6.7062     7.8007     6.5586 OW           16 WaterSPC\\n      47 HW1          6.5783     7.0359     5.9272 HW1          16 WaterSPC\\n      48 HW2          6.1772     8.5875     6.2407 HW2          16 WaterSPC\\n      49 OW           1.6187     8.5101     0.5004 OW           17 WaterSPC\\n      50 HW1          2.0584     7.6419     0.7304 HW1          17 WaterSPC\\n      51 HW2          0.8562     8.6737     1.1264 HW2          17 WaterSPC\\n      52 OW           2.2084     8.0278     3.6124 OW           18 WaterSPC\\n      53 HW1          1.2205     8.0690     3.7619 HW1          18 WaterSPC\\n      54 HW2          2.6011     8.9404     3.7265 HW2          18 WaterSPC\\n      55 OW           9.1893     2.0439     1.2757 OW           19 WaterSPC\\n      56 HW1          8.7241     1.1865     1.4960 HW1          19 WaterSPC\\n      57 HW2          8.5547     2.6556     0.8035 HW2          19 WaterSPC\\n      58 OW           8.4769     8.1122     0.9732 OW           20 WaterSPC\\n      59 HW1          8.6278     8.7530     1.7259 HW1          20 WaterSPC\\n      60 HW2          7.7657     7.4578     1.2302 HW2          20 WaterSPC\\n      61 OW           4.1265     1.0034     3.5566 OW           21 WaterSPC\\n      62 HW1          3.7035     0.6308     4.3826 HW1          21 WaterSPC\\n      63 HW2          5.1117     1.0972     3.6999 HW2          21 WaterSPC\\n      64 OW           6.0493     8.1639     3.4709 OW           22 WaterSPC\\n      65 HW1          5.1486     8.5286     3.7073 HW1          22 WaterSPC\\n      66 HW2          6.7348     8.8868     3.5576 HW2          22 WaterSPC\\n      67 OW           1.1175     1.1984     6.6019 OW           23 WaterSPC\\n      68 HW1          2.0593     1.0014     6.3294 HW1          23 WaterSPC\\n      69 HW2          0.9555     2.1839     6.5527 HW2          23 WaterSPC\\n      70 OW           5.9386     6.5799     9.5264 OW           24 WaterSPC\\n      71 HW1          6.8648     6.8725     9.2887 HW1          24 WaterSPC\\n      72 HW2          5.3850     6.5188     8.6958 HW2          24 WaterSPC\\n      73 OW           8.4744     1.0863     7.9209 OW           25 WaterSPC\\n      74 HW1          7.6190     1.2789     7.4402 HW1          25 WaterSPC\\n      75 HW2          8.3579     1.2727     8.8964 HW2          25 WaterSPC\\n      76 OW           3.7329     6.5708     6.3527 OW           26 WaterSPC\\n      77 HW1          4.3498     5.7906     6.2494 HW1          26 WaterSPC\\n      78 HW2          3.9185     7.2401     5.6333 HW2          26 WaterSPC\\n      79 OW           7.7092     3.7941     6.2534 OW           27 WaterSPC\\n      80 HW1          7.2628     4.6749     6.4110 HW1          27 WaterSPC\\n      81 HW2          8.6510     3.9466     5.9537 HW2          27 WaterSPC\\n      82 OW           5.7505     5.1450     0.5412 OW           28 WaterSPC\\n      83 HW1          4.9316     4.8195     1.0139 HW1          28 WaterSPC\\n      84 HW2          6.5418     4.6109     0.8391 HW2          28 WaterSPC\\n      85 OW           1.3349     2.5593     3.8062 OW           29 WaterSPC\\n      86 HW1          0.5960     3.1884     3.5648 HW1          29 WaterSPC\\n      87 HW2          1.0174     1.6168     3.7024 HW2          29 WaterSPC\\n      88 OW           1.0901     8.4332     6.8991 OW           30 WaterSPC\\n      89 HW1          1.2895     8.6858     7.8459 HW1          30 WaterSPC\\n      90 HW2          1.7529     8.8700     6.2910 HW2          30 WaterSPC\\n      91 OW           9.4930     5.2488     2.2714 OW           31 WaterSPC\\n      92 HW1          9.2735     4.5166     2.9163 HW1          31 WaterSPC\\n      93 HW2          8.9503     5.1340     1.4394 HW2          31 WaterSPC\\n      94 OW           1.7281     2.9307     9.4177 OW           32 WaterSPC\\n      95 HW1          1.2282     3.4747     8.7438 HW1          32 WaterSPC\\n      96 HW2          1.4800     1.9670     9.3185 HW2          32 WaterSPC\\n      97 OW           9.3392     8.4390     7.9803 OW           33 WaterSPC\\n      98 HW1          9.2270     8.9858     7.1505 HW1          33 WaterSPC\\n      99 HW2          8.6051     8.6555     8.6239 HW2          33 WaterSPC\\n@<TRIPOS>BOND\\n       1        1        2 1\\n       2        1        3 1\\n       3        4        5 1\\n       4        4        6 1\\n       5        7        8 1\\n       6        7        9 1\\n       7       10       11 1\\n       8       10       12 1\\n       9       13       14 1\\n      10       13       15 1\\n      11       16       17 1\\n      12       16       18 1\\n      13       19       20 1\\n      14       19       21 1\\n      15       22       23 1\\n      16       22       24 1\\n      17       25       26 1\\n      18       25       27 1\\n      19       28       29 1\\n      20       28       30 1\\n      21       31       32 1\\n      22       31       33 1\\n      23       34       35 1\\n      24       34       36 1\\n      25       37       38 1\\n      26       37       39 1\\n      27       40       41 1\\n      28       40       42 1\\n      29       43       44 1\\n      30       43       45 1\\n      31       46       47 1\\n      32       46       48 1\\n      33       49       50 1\\n      34       49       51 1\\n      35       52       53 1\\n      36       52       54 1\\n      37       55       56 1\\n      38       55       57 1\\n      39       58       59 1\\n      40       58       60 1\\n      41       61       62 1\\n      42       61       63 1\\n      43       64       65 1\\n      44       64       66 1\\n      45       67       68 1\\n      46       67       69 1\\n      47       70       71 1\\n      48       70       72 1\\n      49       73       74 1\\n      50       73       75 1\\n      51       76       77 1\\n      52       76       78 1\\n      53       79       80 1\\n      54       79       81 1\\n      55       82       83 1\\n      56       82       84 1\\n      57       85       86 1\\n      58       85       87 1\\n      59       88       89 1\\n      60       88       90 1\\n      61       91       92 1\\n      62       91       93 1\\n      63       94       95 1\\n      64       94       96 1\\n      65       97       98 1\\n      66       97       99 1\\n@<TRIPOS>SUBSTRUCTURE\\n       1 WaterSPC        1 RESIDUE    0 **** ROOT      0\\n       2 WaterSPC        4 RESIDUE    0 **** ROOT      0\\n       3 WaterSPC        7 RESIDUE    0 **** ROOT      0\\n       4 WaterSPC       10 RESIDUE    0 **** ROOT      0\\n       5 WaterSPC       13 RESIDUE    0 **** ROOT      0\\n       6 WaterSPC       16 RESIDUE    0 **** ROOT      0\\n       7 WaterSPC       19 RESIDUE    0 **** ROOT      0\\n       8 WaterSPC       22 RESIDUE    0 **** ROOT      0\\n       9 WaterSPC       25 RESIDUE    0 **** ROOT      0\\n      10 WaterSPC       28 RESIDUE    0 **** ROOT      0\\n      11 WaterSPC       31 RESIDUE    0 **** ROOT      0\\n      12 WaterSPC       34 RESIDUE    0 **** ROOT      0\\n      13 WaterSPC       37 RESIDUE    0 **** ROOT      0\\n      14 WaterSPC       40 RESIDUE    0 **** ROOT      0\\n      15 WaterSPC       43 RESIDUE    0 **** ROOT      0\\n      16 WaterSPC       46 RESIDUE    0 **** ROOT      0\\n      17 WaterSPC       49 RESIDUE    0 **** ROOT      0\\n      18 WaterSPC       52 RESIDUE    0 **** ROOT      0\\n      19 WaterSPC       55 RESIDUE    0 **** ROOT      0\\n      20 WaterSPC       58 RESIDUE    0 **** ROOT      0\\n      21 WaterSPC       61 RESIDUE    0 **** ROOT      0\\n      22 WaterSPC       64 RESIDUE    0 **** ROOT      0\\n      23 WaterSPC       67 RESIDUE    0 **** ROOT      0\\n      24 WaterSPC       70 RESIDUE    0 **** ROOT      0\\n      25 WaterSPC       73 RESIDUE    0 **** ROOT      0\\n      26 WaterSPC       76 RESIDUE    0 **** ROOT      0\\n      27 WaterSPC       79 RESIDUE    0 **** ROOT      0\\n      28 WaterSPC       82 RESIDUE    0 **** ROOT      0\\n      29 WaterSPC       85 RESIDUE    0 **** ROOT      0\\n      30 WaterSPC       88 RESIDUE    0 **** ROOT      0\\n      31 WaterSPC       91 RESIDUE    0 **** ROOT      0\\n      32 WaterSPC       94 RESIDUE    0 **** ROOT      0\\n      33 WaterSPC       97 RESIDUE    0 **** ROOT      0\\n\",\"mol2\");\n\tviewer_1684465964518164.setStyle({\"stick\": {\"radius\": 0.2, \"color\": \"grey\"}, \"sphere\": {\"scale\": 0.3, \"colorscheme\": {}}});\n\tviewer_1684465964518164.zoomTo();\nviewer_1684465964518164.render();\n});\n</script>",
      "text/html": [
       "<div id=\"3dmolviewer_1684465964518164\"  style=\"position: relative; width: 640px; height: 480px\">\n",
       "        <p id=\"3dmolwarning_1684465964518164\" style=\"background-color:#ffcccc;color:black\">You appear to be running in JupyterLab (or JavaScript failed to load for some other reason).  You need to install the 3dmol extension: <br>\n",
       "        <tt>jupyter labextension install jupyterlab_3dmol</tt></p>\n",
       "        </div>\n",
       "<script>\n",
       "\n",
       "var loadScriptAsync = function(uri){\n",
       "  return new Promise((resolve, reject) => {\n",
       "    //this is to ignore the existence of requirejs amd\n",
       "    var savedexports, savedmodule;\n",
       "    if (typeof exports !== 'undefined') savedexports = exports;\n",
       "    else exports = {}\n",
       "    if (typeof module !== 'undefined') savedmodule = module;\n",
       "    else module = {}\n",
       "\n",
       "    var tag = document.createElement('script');\n",
       "    tag.src = uri;\n",
       "    tag.async = true;\n",
       "    tag.onload = () => {\n",
       "        exports = savedexports;\n",
       "        module = savedmodule;\n",
       "        resolve();\n",
       "    };\n",
       "  var firstScriptTag = document.getElementsByTagName('script')[0];\n",
       "  firstScriptTag.parentNode.insertBefore(tag, firstScriptTag);\n",
       "});\n",
       "};\n",
       "\n",
       "if(typeof $3Dmolpromise === 'undefined') {\n",
       "$3Dmolpromise = null;\n",
       "  $3Dmolpromise = loadScriptAsync('https://cdn.jsdelivr.net/npm/3dmol@latest/build/3Dmol-min.min.js');\n",
       "}\n",
       "\n",
       "var viewer_1684465964518164 = null;\n",
       "var warn = document.getElementById(\"3dmolwarning_1684465964518164\");\n",
       "if(warn) {\n",
       "    warn.parentNode.removeChild(warn);\n",
       "}\n",
       "$3Dmolpromise.then(function() {\n",
       "viewer_1684465964518164 = $3Dmol.createViewer(document.getElementById(\"3dmolviewer_1684465964518164\"),{backgroundColor:\"white\"});\n",
       "viewer_1684465964518164.zoomTo();\n",
       "\tviewer_1684465964518164.addModel(\"@<TRIPOS>MOLECULE\\nWaterSPC\\n99 66 33 0 1\\nBIOPOLYMER\\nNO_CHARGES\\n@<TRIPOS>CRYSIN\\n   10.0000    10.0000    10.0000    90.0000    90.0000    90.0000  1  1\\n@<TRIPOS>ATOM\\n       1 OW           3.3199     4.9523     3.6766 OW            1 WaterSPC\\n       2 HW1          3.5568     4.1192     3.1768 HW1           1 WaterSPC\\n       3 HW2          3.7443     5.7404     3.2308 HW2           1 WaterSPC\\n       4 OW           4.3575     9.3178     8.7050 OW            2 WaterSPC\\n       5 HW1          5.3557     9.3072     8.7632 HW1           2 WaterSPC\\n       6 HW2          4.0736     9.0191     7.7938 HW2           2 WaterSPC\\n       7 OW           5.5658     1.8757     0.7483 OW            3 WaterSPC\\n       8 HW1          6.1333     2.0256     1.5579 HW1           3 WaterSPC\\n       9 HW2          5.1260     0.9798     0.8108 HW2           3 WaterSPC\\n      10 OW           4.4757     0.5963     8.7027 OW            4 WaterSPC\\n      11 HW1          5.3933     0.9932     8.6830 HW1           4 WaterSPC\\n      12 HW2          3.8636     1.1433     8.1316 HW2           4 WaterSPC\\n      13 OW           8.5510     1.5023     4.3368 OW            5 WaterSPC\\n      14 HW1          7.5687     1.3219     4.2879 HW1           5 WaterSPC\\n      15 HW2          8.9545     0.9542     5.0694 HW2           5 WaterSPC\\n      16 OW           2.2378     1.5615     0.8750 OW            6 WaterSPC\\n      17 HW1          1.2488     1.5857     1.0206 HW1           6 WaterSPC\\n      18 HW2          2.6417     2.4216     1.1866 HW2           6 WaterSPC\\n      19 OW           9.3796     7.1550     4.8505 OW            7 WaterSPC\\n      20 HW1          8.8796     7.5556     4.0827 HW1           7 WaterSPC\\n      21 HW2          8.9661     6.2784     5.0966 HW2           7 WaterSPC\\n      22 OW           4.7504     3.0351     5.8057 OW            8 WaterSPC\\n      23 HW1          3.7699     2.9592     5.9869 HW1           8 WaterSPC\\n      24 HW2          5.2177     2.2224     6.1537 HW2           8 WaterSPC\\n      25 OW           0.7811     5.0973     5.8788 OW            9 WaterSPC\\n      26 HW1          1.0470     5.8371     5.2608 HW1           9 WaterSPC\\n      27 HW2          1.5930     4.7418     6.3419 HW2           9 WaterSPC\\n      28 OW           4.8797     8.1831     0.4533 OW           10 WaterSPC\\n      29 HW1          5.5010     8.8817     0.8082 HW1          10 WaterSPC\\n      30 HW2          4.5267     7.6348     1.2114 HW2          10 WaterSPC\\n      31 OW           6.3055     4.5956     3.6817 OW           11 WaterSPC\\n      32 HW1          6.8940     5.4041     3.6735 HW1          11 WaterSPC\\n      33 HW2          6.8390     3.7923     3.4171 HW2          11 WaterSPC\\n      34 OW           8.6966     4.6875     9.0701 OW           12 WaterSPC\\n      35 HW1          9.1396     3.8371     8.7863 HW1          12 WaterSPC\\n      36 HW2          8.8942     5.4052     8.4025 HW2          12 WaterSPC\\n      37 OW           2.1898     6.1540     9.3640 OW           13 WaterSPC\\n      38 HW1          1.4126     6.1069     8.7365 HW1          13 WaterSPC\\n      39 HW2          2.8515     6.8231     9.0255 HW2          13 WaterSPC\\n      40 OW           4.7616     3.8065     8.9361 OW           14 WaterSPC\\n      41 HW1          5.6499     3.7717     8.4782 HW1          14 WaterSPC\\n      42 HW2          4.0869     4.2185     8.3236 HW2          14 WaterSPC\\n      43 OW           1.0728     5.0378     1.3638 OW           15 WaterSPC\\n      44 HW1          0.9702     5.5820     2.1964 HW1          15 WaterSPC\\n      45 HW2          2.0328     5.0345     1.0840 HW2          15 WaterSPC\\n      46 OW           6.7062     7.8007     6.5586 OW           16 WaterSPC\\n      47 HW1          6.5783     7.0359     5.9272 HW1          16 WaterSPC\\n      48 HW2          6.1772     8.5875     6.2407 HW2          16 WaterSPC\\n      49 OW           1.6187     8.5101     0.5004 OW           17 WaterSPC\\n      50 HW1          2.0584     7.6419     0.7304 HW1          17 WaterSPC\\n      51 HW2          0.8562     8.6737     1.1264 HW2          17 WaterSPC\\n      52 OW           2.2084     8.0278     3.6124 OW           18 WaterSPC\\n      53 HW1          1.2205     8.0690     3.7619 HW1          18 WaterSPC\\n      54 HW2          2.6011     8.9404     3.7265 HW2          18 WaterSPC\\n      55 OW           9.1893     2.0439     1.2757 OW           19 WaterSPC\\n      56 HW1          8.7241     1.1865     1.4960 HW1          19 WaterSPC\\n      57 HW2          8.5547     2.6556     0.8035 HW2          19 WaterSPC\\n      58 OW           8.4769     8.1122     0.9732 OW           20 WaterSPC\\n      59 HW1          8.6278     8.7530     1.7259 HW1          20 WaterSPC\\n      60 HW2          7.7657     7.4578     1.2302 HW2          20 WaterSPC\\n      61 OW           4.1265     1.0034     3.5566 OW           21 WaterSPC\\n      62 HW1          3.7035     0.6308     4.3826 HW1          21 WaterSPC\\n      63 HW2          5.1117     1.0972     3.6999 HW2          21 WaterSPC\\n      64 OW           6.0493     8.1639     3.4709 OW           22 WaterSPC\\n      65 HW1          5.1486     8.5286     3.7073 HW1          22 WaterSPC\\n      66 HW2          6.7348     8.8868     3.5576 HW2          22 WaterSPC\\n      67 OW           1.1175     1.1984     6.6019 OW           23 WaterSPC\\n      68 HW1          2.0593     1.0014     6.3294 HW1          23 WaterSPC\\n      69 HW2          0.9555     2.1839     6.5527 HW2          23 WaterSPC\\n      70 OW           5.9386     6.5799     9.5264 OW           24 WaterSPC\\n      71 HW1          6.8648     6.8725     9.2887 HW1          24 WaterSPC\\n      72 HW2          5.3850     6.5188     8.6958 HW2          24 WaterSPC\\n      73 OW           8.4744     1.0863     7.9209 OW           25 WaterSPC\\n      74 HW1          7.6190     1.2789     7.4402 HW1          25 WaterSPC\\n      75 HW2          8.3579     1.2727     8.8964 HW2          25 WaterSPC\\n      76 OW           3.7329     6.5708     6.3527 OW           26 WaterSPC\\n      77 HW1          4.3498     5.7906     6.2494 HW1          26 WaterSPC\\n      78 HW2          3.9185     7.2401     5.6333 HW2          26 WaterSPC\\n      79 OW           7.7092     3.7941     6.2534 OW           27 WaterSPC\\n      80 HW1          7.2628     4.6749     6.4110 HW1          27 WaterSPC\\n      81 HW2          8.6510     3.9466     5.9537 HW2          27 WaterSPC\\n      82 OW           5.7505     5.1450     0.5412 OW           28 WaterSPC\\n      83 HW1          4.9316     4.8195     1.0139 HW1          28 WaterSPC\\n      84 HW2          6.5418     4.6109     0.8391 HW2          28 WaterSPC\\n      85 OW           1.3349     2.5593     3.8062 OW           29 WaterSPC\\n      86 HW1          0.5960     3.1884     3.5648 HW1          29 WaterSPC\\n      87 HW2          1.0174     1.6168     3.7024 HW2          29 WaterSPC\\n      88 OW           1.0901     8.4332     6.8991 OW           30 WaterSPC\\n      89 HW1          1.2895     8.6858     7.8459 HW1          30 WaterSPC\\n      90 HW2          1.7529     8.8700     6.2910 HW2          30 WaterSPC\\n      91 OW           9.4930     5.2488     2.2714 OW           31 WaterSPC\\n      92 HW1          9.2735     4.5166     2.9163 HW1          31 WaterSPC\\n      93 HW2          8.9503     5.1340     1.4394 HW2          31 WaterSPC\\n      94 OW           1.7281     2.9307     9.4177 OW           32 WaterSPC\\n      95 HW1          1.2282     3.4747     8.7438 HW1          32 WaterSPC\\n      96 HW2          1.4800     1.9670     9.3185 HW2          32 WaterSPC\\n      97 OW           9.3392     8.4390     7.9803 OW           33 WaterSPC\\n      98 HW1          9.2270     8.9858     7.1505 HW1          33 WaterSPC\\n      99 HW2          8.6051     8.6555     8.6239 HW2          33 WaterSPC\\n@<TRIPOS>BOND\\n       1        1        2 1\\n       2        1        3 1\\n       3        4        5 1\\n       4        4        6 1\\n       5        7        8 1\\n       6        7        9 1\\n       7       10       11 1\\n       8       10       12 1\\n       9       13       14 1\\n      10       13       15 1\\n      11       16       17 1\\n      12       16       18 1\\n      13       19       20 1\\n      14       19       21 1\\n      15       22       23 1\\n      16       22       24 1\\n      17       25       26 1\\n      18       25       27 1\\n      19       28       29 1\\n      20       28       30 1\\n      21       31       32 1\\n      22       31       33 1\\n      23       34       35 1\\n      24       34       36 1\\n      25       37       38 1\\n      26       37       39 1\\n      27       40       41 1\\n      28       40       42 1\\n      29       43       44 1\\n      30       43       45 1\\n      31       46       47 1\\n      32       46       48 1\\n      33       49       50 1\\n      34       49       51 1\\n      35       52       53 1\\n      36       52       54 1\\n      37       55       56 1\\n      38       55       57 1\\n      39       58       59 1\\n      40       58       60 1\\n      41       61       62 1\\n      42       61       63 1\\n      43       64       65 1\\n      44       64       66 1\\n      45       67       68 1\\n      46       67       69 1\\n      47       70       71 1\\n      48       70       72 1\\n      49       73       74 1\\n      50       73       75 1\\n      51       76       77 1\\n      52       76       78 1\\n      53       79       80 1\\n      54       79       81 1\\n      55       82       83 1\\n      56       82       84 1\\n      57       85       86 1\\n      58       85       87 1\\n      59       88       89 1\\n      60       88       90 1\\n      61       91       92 1\\n      62       91       93 1\\n      63       94       95 1\\n      64       94       96 1\\n      65       97       98 1\\n      66       97       99 1\\n@<TRIPOS>SUBSTRUCTURE\\n       1 WaterSPC        1 RESIDUE    0 **** ROOT      0\\n       2 WaterSPC        4 RESIDUE    0 **** ROOT      0\\n       3 WaterSPC        7 RESIDUE    0 **** ROOT      0\\n       4 WaterSPC       10 RESIDUE    0 **** ROOT      0\\n       5 WaterSPC       13 RESIDUE    0 **** ROOT      0\\n       6 WaterSPC       16 RESIDUE    0 **** ROOT      0\\n       7 WaterSPC       19 RESIDUE    0 **** ROOT      0\\n       8 WaterSPC       22 RESIDUE    0 **** ROOT      0\\n       9 WaterSPC       25 RESIDUE    0 **** ROOT      0\\n      10 WaterSPC       28 RESIDUE    0 **** ROOT      0\\n      11 WaterSPC       31 RESIDUE    0 **** ROOT      0\\n      12 WaterSPC       34 RESIDUE    0 **** ROOT      0\\n      13 WaterSPC       37 RESIDUE    0 **** ROOT      0\\n      14 WaterSPC       40 RESIDUE    0 **** ROOT      0\\n      15 WaterSPC       43 RESIDUE    0 **** ROOT      0\\n      16 WaterSPC       46 RESIDUE    0 **** ROOT      0\\n      17 WaterSPC       49 RESIDUE    0 **** ROOT      0\\n      18 WaterSPC       52 RESIDUE    0 **** ROOT      0\\n      19 WaterSPC       55 RESIDUE    0 **** ROOT      0\\n      20 WaterSPC       58 RESIDUE    0 **** ROOT      0\\n      21 WaterSPC       61 RESIDUE    0 **** ROOT      0\\n      22 WaterSPC       64 RESIDUE    0 **** ROOT      0\\n      23 WaterSPC       67 RESIDUE    0 **** ROOT      0\\n      24 WaterSPC       70 RESIDUE    0 **** ROOT      0\\n      25 WaterSPC       73 RESIDUE    0 **** ROOT      0\\n      26 WaterSPC       76 RESIDUE    0 **** ROOT      0\\n      27 WaterSPC       79 RESIDUE    0 **** ROOT      0\\n      28 WaterSPC       82 RESIDUE    0 **** ROOT      0\\n      29 WaterSPC       85 RESIDUE    0 **** ROOT      0\\n      30 WaterSPC       88 RESIDUE    0 **** ROOT      0\\n      31 WaterSPC       91 RESIDUE    0 **** ROOT      0\\n      32 WaterSPC       94 RESIDUE    0 **** ROOT      0\\n      33 WaterSPC       97 RESIDUE    0 **** ROOT      0\\n\",\"mol2\");\n",
       "\tviewer_1684465964518164.setStyle({\"stick\": {\"radius\": 0.2, \"color\": \"grey\"}, \"sphere\": {\"scale\": 0.3, \"colorscheme\": {}}});\n",
       "\tviewer_1684465964518164.zoomTo();\n",
       "viewer_1684465964518164.render();\n",
       "});\n",
       "</script>"
      ]
     },
     "metadata": {},
     "output_type": "display_data"
    },
    {
     "data": {
      "text/plain": [
       "<py3Dmol.view at 0x123832fd0>"
      ]
     },
     "execution_count": 57,
     "metadata": {},
     "output_type": "execute_result"
    }
   ],
   "source": [
    "water_system.visualize()"
   ]
  },
  {
   "cell_type": "markdown",
   "id": "79ede537-4cc8-4103-b5dc-6fc7b6ccb444",
   "metadata": {},
   "source": [
    "We can then check the angles and distances and we will see that we are exact again, and in a reasonable energy minimized configuration"
   ]
  },
  {
   "cell_type": "code",
   "execution_count": 58,
   "id": "6a0f2ad8-3d64-4dbc-bd2c-b1eb1a24cb9c",
   "metadata": {},
   "outputs": [],
   "source": [
    "#now let us see the angles and distances back to expected\n",
    "angles = []\n",
    "dists = []\n",
    "for water in water_system.children:\n",
    "    #the first particle is oxygen in the molecule\n",
    "    v1 = water.children[1].pos - water.children[0].pos\n",
    "    v2 = water.children[2].pos - water.children[0].pos\n",
    "    dists.append(np.linalg.norm(v1))\n",
    "    dists.append(np.linalg.norm(v2))\n",
    "    angles.append(angle_between(v1,v2))"
   ]
  },
  {
   "cell_type": "code",
   "execution_count": 59,
   "id": "9fe2ccf2-af52-4235-8e23-70164115d89a",
   "metadata": {},
   "outputs": [
    {
     "name": "stdout",
     "output_type": "stream",
     "text": [
      "109.47  deg\n",
      "0.1  nm\n"
     ]
    }
   ],
   "source": [
    "print(np.array(angles).mean().round(4), \" deg\")\n",
    "print(np.array(dists).mean().round(6), \" nm\")\n",
    "\n"
   ]
  },
  {
   "cell_type": "code",
   "execution_count": 60,
   "id": "4fa3e621-2622-4a55-b6ff-faa5682d91d0",
   "metadata": {},
   "outputs": [],
   "source": [
    "water_system.save('config2.mol2', overwrite=True)"
   ]
  },
  {
   "cell_type": "markdown",
   "id": "a9d2bd88-3c91-4dd4-9b51-df7eff676a39",
   "metadata": {},
   "source": []
  }
 ],
 "metadata": {
  "kernelspec": {
   "display_name": "Python 3 (ipykernel)",
   "language": "python",
   "name": "python3"
  },
  "language_info": {
   "codemirror_mode": {
    "name": "ipython",
    "version": 3
   },
   "file_extension": ".py",
   "mimetype": "text/x-python",
   "name": "python",
   "nbconvert_exporter": "python",
   "pygments_lexer": "ipython3",
   "version": "3.9.15"
  }
 },
 "nbformat": 4,
 "nbformat_minor": 5
}
