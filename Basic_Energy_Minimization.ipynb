{
 "cells": [
  {
   "cell_type": "markdown",
   "id": "0dcc672c-7e9a-488e-902d-f2c94296f57c",
   "metadata": {},
   "source": [
    "# Basic energy minimization in mBuild\n",
    "\n",
    "This notebook provides an overview of performing energy minimization in mBuild."
   ]
  },
  {
   "cell_type": "code",
   "execution_count": 1,
   "id": "4b32849b-f0cb-49ed-9da4-8e6df0ce66d6",
   "metadata": {},
   "outputs": [
    {
     "name": "stderr",
     "output_type": "stream",
     "text": [
      "Warning: importing 'simtk.openmm' is deprecated.  Import 'openmm' instead.\n"
     ]
    }
   ],
   "source": [
    "import mbuild as mb\n",
    "import numpy as np\n",
    "import warnings\n",
    "warnings.filterwarnings('ignore') \n",
    "\n",
    "\n",
    "from mbuild.lib.recipes.alkane import Alkane"
   ]
  },
  {
   "cell_type": "markdown",
   "id": "e6e010ff-e007-4c40-b605-cdd01ec4b587",
   "metadata": {},
   "source": [
    "## Default energy minimization\n",
    "\n",
    "After initializing an mBuild `Compound`, we can perform energy minimization by simply calling the `energy_minimize` function as part of the `Compound` class.  By default, mBuild will attempt to call [OpenBabel](http://openbabel.org) to perform the energy minimization. Note, [OpenMM](http://openmm.org) is also supported but requires a force field XML file to be specified.\n",
    "\n",
    "In the example below, we will initialize a hexane molecule and perform energy minimization using OpenBabel. In the xample below, We willclone of the hexane molecule (i.e., make a copy) before energy minimization to allow us view the pre- and post- minimized structure side-by-side. "
   ]
  },
  {
   "cell_type": "code",
   "execution_count": 2,
   "id": "e2f2ef40-27dd-4dc3-b652-d3c571ffbf4a",
   "metadata": {},
   "outputs": [
    {
     "data": {
      "application/3dmoljs_load.v0": "<div id=\"3dmolviewer_16688072979672909\"  style=\"position: relative; width: 640px; height: 480px\">\n        <p id=\"3dmolwarning_16688072979672909\" style=\"background-color:#ffcccc;color:black\">You appear to be running in JupyterLab (or JavaScript failed to load for some other reason).  You need to install the 3dmol extension: <br>\n        <tt>jupyter labextension install jupyterlab_3dmol</tt></p>\n        </div>\n<script>\n\nvar loadScriptAsync = function(uri){\n  return new Promise((resolve, reject) => {\n    var tag = document.createElement('script');\n    tag.src = uri;\n    tag.async = true;\n    tag.onload = () => {\n      resolve();\n    };\n  var firstScriptTag = document.getElementsByTagName('script')[0];\n  firstScriptTag.parentNode.insertBefore(tag, firstScriptTag);\n});\n};\n\nif(typeof $3Dmolpromise === 'undefined') {\n$3Dmolpromise = null;\n  $3Dmolpromise = loadScriptAsync('https://cdn.jsdelivr.net/npm/3dmol@latest/build/3Dmol-min.min.js');\n}\n\nvar viewer_16688072979672909 = null;\nvar warn = document.getElementById(\"3dmolwarning_16688072979672909\");\nif(warn) {\n    warn.parentNode.removeChild(warn);\n}\n$3Dmolpromise.then(function() {\nviewer_16688072979672909 = $3Dmol.createViewer($(\"#3dmolviewer_16688072979672909\"),{backgroundColor:\"white\"});\nviewer_16688072979672909.zoomTo();\n\tviewer_16688072979672909.addModel(\"@<TRIPOS>MOLECULE\\nRES\\n40 38 1 0 1\\nSMALL\\nNO_CHARGES\\n@<TRIPOS>CRYSIN\\n   17.5457    13.5380     8.5650    90.0000    90.0000    90.0000  1  1\\n@<TRIPOS>ATOM\\n       1 C           -5.0000     0.0000     0.0000 C             1 RES     \\n       2 H           -6.1000     0.0000     0.0000 H             1 RES     \\n       3 H           -3.9000     0.0000     0.0000 H             1 RES     \\n       4 C           -5.0000    -1.4000     0.0000 C             1 RES     \\n       5 H           -6.1000    -1.4000    -0.0000 H             1 RES     \\n       6 H           -3.9000    -1.4000     0.0000 H             1 RES     \\n       7 C           -5.0000    -2.8000     0.0000 C             1 RES     \\n       8 H           -6.1000    -2.8000    -0.0000 H             1 RES     \\n       9 H           -3.9000    -2.8000     0.0000 H             1 RES     \\n      10 C           -5.0000    -4.2000     0.0000 C             1 RES     \\n      11 H           -6.1000    -4.2000    -0.0000 H             1 RES     \\n      12 H           -3.9000    -4.2000     0.0000 H             1 RES     \\n      13 C           -5.0000     1.4000     0.0000 C             1 RES     \\n      14 H           -3.9300     1.4000    -0.0000 H             1 RES     \\n      15 H           -5.3570     2.1690     0.6530 H             1 RES     \\n      16 H           -5.3570     1.5810    -0.9930 H             1 RES     \\n      17 C           -5.0000    -5.6000    -0.0000 C             1 RES     \\n      18 H           -6.0700    -5.6000    -0.0000 H             1 RES     \\n      19 H           -4.6430    -6.3690     0.6530 H             1 RES     \\n      20 H           -4.6430    -5.7810    -0.9930 H             1 RES     \\n      21 C            4.7017    -0.2876     0.3666 C             1 RES     \\n      22 H            3.5908    -0.3016     0.4106 H             1 RES     \\n      23 H            5.0958    -0.0656     1.3826 H             1 RES     \\n      24 C            5.2188    -1.6546    -0.0984 C             1 RES     \\n      25 H            4.8238    -1.8567    -1.1164 H             1 RES     \\n      26 H            6.3297    -1.6286    -0.1384 H             1 RES     \\n      27 C            4.7738    -2.7646     0.8676 C             1 RES     \\n      28 H            3.6637    -2.8107     0.9056 H             1 RES     \\n      29 H            5.1458    -2.5136     1.8856 H             1 RES     \\n      30 C            5.3348    -4.1476     0.5006 C             1 RES     \\n      31 H            5.0198    -4.8667     1.2876 H             1 RES     \\n      32 H            6.4457    -4.1116     0.4906 H             1 RES     \\n      33 C            5.1438     0.8213    -0.5844 C             1 RES     \\n      34 H            6.2527     0.8694    -0.6324 H             1 RES     \\n      35 H            4.7608     1.7983    -0.2204 H             1 RES     \\n      36 H            4.7418     0.6384    -1.6034 H             1 RES     \\n      37 C            4.8308    -4.6727    -0.8444 C             1 RES     \\n      38 H            3.7208    -4.7307    -0.8424 H             1 RES     \\n      39 H            5.2397    -5.6897    -1.0174 H             1 RES     \\n      40 H            5.1658    -4.0247    -1.6794 H             1 RES     \\n@<TRIPOS>BOND\\n       1        2        1 1\\n       2        3        1 1\\n       3        4        1 1\\n       4       13        1 1\\n       5        5        4 1\\n       6        6        4 1\\n       7        7        4 1\\n       8        8        7 1\\n       9        9        7 1\\n      10       10        7 1\\n      11       11       10 1\\n      12       12       10 1\\n      13       17       10 1\\n      14       14       13 1\\n      15       15       13 1\\n      16       16       13 1\\n      17       18       17 1\\n      18       19       17 1\\n      19       20       17 1\\n      20       22       21 1\\n      21       23       21 1\\n      22       24       21 1\\n      23       33       21 1\\n      24       25       24 1\\n      25       26       24 1\\n      26       27       24 1\\n      27       28       27 1\\n      28       29       27 1\\n      29       30       27 1\\n      30       31       30 1\\n      31       32       30 1\\n      32       37       30 1\\n      33       34       33 1\\n      34       35       33 1\\n      35       36       33 1\\n      36       38       37 1\\n      37       39       37 1\\n      38       40       37 1\\n@<TRIPOS>SUBSTRUCTURE\\n       1 RES             1 RESIDUE    0 **** ROOT      0\\n\",\"mol2\");\n\tviewer_16688072979672909.setStyle({\"stick\": {\"radius\": 0.2, \"color\": \"grey\"}, \"sphere\": {\"scale\": 0.3, \"colorscheme\": {}}});\n\tviewer_16688072979672909.zoomTo();\nviewer_16688072979672909.render();\n});\n</script>",
      "text/html": [
       "<div id=\"3dmolviewer_16688072979672909\"  style=\"position: relative; width: 640px; height: 480px\">\n",
       "        <p id=\"3dmolwarning_16688072979672909\" style=\"background-color:#ffcccc;color:black\">You appear to be running in JupyterLab (or JavaScript failed to load for some other reason).  You need to install the 3dmol extension: <br>\n",
       "        <tt>jupyter labextension install jupyterlab_3dmol</tt></p>\n",
       "        </div>\n",
       "<script>\n",
       "\n",
       "var loadScriptAsync = function(uri){\n",
       "  return new Promise((resolve, reject) => {\n",
       "    var tag = document.createElement('script');\n",
       "    tag.src = uri;\n",
       "    tag.async = true;\n",
       "    tag.onload = () => {\n",
       "      resolve();\n",
       "    };\n",
       "  var firstScriptTag = document.getElementsByTagName('script')[0];\n",
       "  firstScriptTag.parentNode.insertBefore(tag, firstScriptTag);\n",
       "});\n",
       "};\n",
       "\n",
       "if(typeof $3Dmolpromise === 'undefined') {\n",
       "$3Dmolpromise = null;\n",
       "  $3Dmolpromise = loadScriptAsync('https://cdn.jsdelivr.net/npm/3dmol@latest/build/3Dmol-min.min.js');\n",
       "}\n",
       "\n",
       "var viewer_16688072979672909 = null;\n",
       "var warn = document.getElementById(\"3dmolwarning_16688072979672909\");\n",
       "if(warn) {\n",
       "    warn.parentNode.removeChild(warn);\n",
       "}\n",
       "$3Dmolpromise.then(function() {\n",
       "viewer_16688072979672909 = $3Dmol.createViewer($(\"#3dmolviewer_16688072979672909\"),{backgroundColor:\"white\"});\n",
       "viewer_16688072979672909.zoomTo();\n",
       "\tviewer_16688072979672909.addModel(\"@<TRIPOS>MOLECULE\\nRES\\n40 38 1 0 1\\nSMALL\\nNO_CHARGES\\n@<TRIPOS>CRYSIN\\n   17.5457    13.5380     8.5650    90.0000    90.0000    90.0000  1  1\\n@<TRIPOS>ATOM\\n       1 C           -5.0000     0.0000     0.0000 C             1 RES     \\n       2 H           -6.1000     0.0000     0.0000 H             1 RES     \\n       3 H           -3.9000     0.0000     0.0000 H             1 RES     \\n       4 C           -5.0000    -1.4000     0.0000 C             1 RES     \\n       5 H           -6.1000    -1.4000    -0.0000 H             1 RES     \\n       6 H           -3.9000    -1.4000     0.0000 H             1 RES     \\n       7 C           -5.0000    -2.8000     0.0000 C             1 RES     \\n       8 H           -6.1000    -2.8000    -0.0000 H             1 RES     \\n       9 H           -3.9000    -2.8000     0.0000 H             1 RES     \\n      10 C           -5.0000    -4.2000     0.0000 C             1 RES     \\n      11 H           -6.1000    -4.2000    -0.0000 H             1 RES     \\n      12 H           -3.9000    -4.2000     0.0000 H             1 RES     \\n      13 C           -5.0000     1.4000     0.0000 C             1 RES     \\n      14 H           -3.9300     1.4000    -0.0000 H             1 RES     \\n      15 H           -5.3570     2.1690     0.6530 H             1 RES     \\n      16 H           -5.3570     1.5810    -0.9930 H             1 RES     \\n      17 C           -5.0000    -5.6000    -0.0000 C             1 RES     \\n      18 H           -6.0700    -5.6000    -0.0000 H             1 RES     \\n      19 H           -4.6430    -6.3690     0.6530 H             1 RES     \\n      20 H           -4.6430    -5.7810    -0.9930 H             1 RES     \\n      21 C            4.7017    -0.2876     0.3666 C             1 RES     \\n      22 H            3.5908    -0.3016     0.4106 H             1 RES     \\n      23 H            5.0958    -0.0656     1.3826 H             1 RES     \\n      24 C            5.2188    -1.6546    -0.0984 C             1 RES     \\n      25 H            4.8238    -1.8567    -1.1164 H             1 RES     \\n      26 H            6.3297    -1.6286    -0.1384 H             1 RES     \\n      27 C            4.7738    -2.7646     0.8676 C             1 RES     \\n      28 H            3.6637    -2.8107     0.9056 H             1 RES     \\n      29 H            5.1458    -2.5136     1.8856 H             1 RES     \\n      30 C            5.3348    -4.1476     0.5006 C             1 RES     \\n      31 H            5.0198    -4.8667     1.2876 H             1 RES     \\n      32 H            6.4457    -4.1116     0.4906 H             1 RES     \\n      33 C            5.1438     0.8213    -0.5844 C             1 RES     \\n      34 H            6.2527     0.8694    -0.6324 H             1 RES     \\n      35 H            4.7608     1.7983    -0.2204 H             1 RES     \\n      36 H            4.7418     0.6384    -1.6034 H             1 RES     \\n      37 C            4.8308    -4.6727    -0.8444 C             1 RES     \\n      38 H            3.7208    -4.7307    -0.8424 H             1 RES     \\n      39 H            5.2397    -5.6897    -1.0174 H             1 RES     \\n      40 H            5.1658    -4.0247    -1.6794 H             1 RES     \\n@<TRIPOS>BOND\\n       1        2        1 1\\n       2        3        1 1\\n       3        4        1 1\\n       4       13        1 1\\n       5        5        4 1\\n       6        6        4 1\\n       7        7        4 1\\n       8        8        7 1\\n       9        9        7 1\\n      10       10        7 1\\n      11       11       10 1\\n      12       12       10 1\\n      13       17       10 1\\n      14       14       13 1\\n      15       15       13 1\\n      16       16       13 1\\n      17       18       17 1\\n      18       19       17 1\\n      19       20       17 1\\n      20       22       21 1\\n      21       23       21 1\\n      22       24       21 1\\n      23       33       21 1\\n      24       25       24 1\\n      25       26       24 1\\n      26       27       24 1\\n      27       28       27 1\\n      28       29       27 1\\n      29       30       27 1\\n      30       31       30 1\\n      31       32       30 1\\n      32       37       30 1\\n      33       34       33 1\\n      34       35       33 1\\n      35       36       33 1\\n      36       38       37 1\\n      37       39       37 1\\n      38       40       37 1\\n@<TRIPOS>SUBSTRUCTURE\\n       1 RES             1 RESIDUE    0 **** ROOT      0\\n\",\"mol2\");\n",
       "\tviewer_16688072979672909.setStyle({\"stick\": {\"radius\": 0.2, \"color\": \"grey\"}, \"sphere\": {\"scale\": 0.3, \"colorscheme\": {}}});\n",
       "\tviewer_16688072979672909.zoomTo();\n",
       "viewer_16688072979672909.render();\n",
       "});\n",
       "</script>"
      ]
     },
     "metadata": {},
     "output_type": "display_data"
    },
    {
     "data": {
      "text/plain": [
       "<py3Dmol.view at 0x1471da1c0>"
      ]
     },
     "execution_count": 2,
     "metadata": {},
     "output_type": "execute_result"
    }
   ],
   "source": [
    "hexane = Alkane(n=6)\n",
    "hexane_pre_emin = mb.clone(hexane)\n",
    "hexane.energy_minimize()\n",
    "\n",
    "'''\n",
    "The following code snippet will enable us to visualize \n",
    "the pre- and post-minimized structures side-by-side.\n",
    "This is done by create an empty mbuild compound, system, \n",
    "and adding the pre- and post- minimized structures to it.\n",
    "To ensure the molecules are not sitting on top of each other,\n",
    "we will translate the center-of-mass of each.\n",
    "'''\n",
    "\n",
    "# shift the two molecules so they are not on top of each other\n",
    "hexane_pre_emin.translate([-0.5,0,0])\n",
    "hexane.translate([0.5,0,0])\n",
    "\n",
    "#create an empty compound\n",
    "#add the two molecules\n",
    "system = mb.Compound()\n",
    "system.add(hexane_pre_emin)\n",
    "system.add(hexane)\n",
    "\n",
    "#visualize the system\n",
    "system.visualize()"
   ]
  },
  {
   "cell_type": "markdown",
   "id": "dcc43e89-64fe-49b0-a5da-11c229ca0c7c",
   "metadata": {},
   "source": [
    "### Preserving the center-of-mass location\n",
    "By default, the energy minimization routine will shift the `Compound` such that the center-of-mass is unchanged. This will apply regardless of the energy minimization library used (i.e., OpenBabel or OpenMM).\n",
    "\n",
    "Ensuring the center-of-mass is unchanged provides consistency and may be needed for certain systems/methods.  While this shifting could be easily done by a user, it would require a user to save the center-of-mass before energy minimization is called, since the coordinates in the Compound are updated by the call (rather than returning a copy of the Compound with modified coordinates).\n",
    "\n",
    "The following code is essentially the same as above, but here we explicitly check to see if the center-of-mass position is unchanged."
   ]
  },
  {
   "cell_type": "code",
   "execution_count": 3,
   "id": "c1cc5aad-a6d0-4873-bfcb-9493be9198c7",
   "metadata": {},
   "outputs": [
    {
     "name": "stdout",
     "output_type": "stream",
     "text": [
      "Net change in COM: 0.0000000000 nm \n",
      "COM position is effectively unchanged.\n"
     ]
    }
   ],
   "source": [
    "hexane = Alkane(n=6)\n",
    "initial_com = hexane.pos\n",
    "\n",
    "hexane.energy_minimize()\n",
    "final_com = hexane.pos\n",
    "\n",
    "#calculate the Euclidian distance between the two vectors\n",
    "diff = np.linalg.norm(initial_com-final_com)\n",
    "print(\"Net change in COM: {0:.10f} nm \".format(diff))\n",
    "\n",
    "if np.allclose(initial_com, final_com, rtol=1e-10, atol=1e-10):\n",
    "    print(\"COM position is effectively unchanged.\")\n",
    "else:\n",
    "    print(\"COM position has changed after energy minimization.\")"
   ]
  },
  {
   "cell_type": "markdown",
   "id": "ddb9d6af-21fa-4f57-96b7-9ff3f68f855a",
   "metadata": {},
   "source": [
    "To disable shifting of the center-of-mass, we can simple setting the `shift_com` argument to `False`, as done in the code below. "
   ]
  },
  {
   "cell_type": "code",
   "execution_count": 4,
   "id": "d1950ba4-e850-4fcc-832a-226345933615",
   "metadata": {},
   "outputs": [
    {
     "name": "stdout",
     "output_type": "stream",
     "text": [
      "Net change in COM: 0.0089574002 nm \n",
      "COM position has changed after energy minimization.\n"
     ]
    }
   ],
   "source": [
    "hexane = Alkane(n=6)\n",
    "initial_com = hexane.pos\n",
    "\n",
    "hexane.energy_minimize(shift_com=False)\n",
    "final_com = hexane.pos\n",
    "\n",
    "#calculate the Euclidian distance between the two vectors\n",
    "diff = np.linalg.norm(initial_com-final_com)\n",
    "print(\"Net change in COM: {0:.10f} nm \".format(diff))\n",
    "\n",
    "if np.allclose(initial_com, final_com, rtol=1e-10, atol=1e-10):\n",
    "    print(\"COM position is effectively unchanged.\")\n",
    "else:\n",
    "    print(\"COM position has changed after energy minimization.\")\n",
    "\n"
   ]
  },
  {
   "cell_type": "markdown",
   "id": "bcbd8f08-47da-41ea-a141-376b249b252d",
   "metadata": {},
   "source": [
    "Note, the change in the center-of-mass position is very small but still non-zero. The small deviation is most likely due to the relatively small size and low complexity of the molecule. "
   ]
  },
  {
   "cell_type": "markdown",
   "id": "19194fab-ba1e-4a38-acaa-6472f7ad5625",
   "metadata": {},
   "source": [
    "### Preserving the center-of-mass location of a user specified sub-Compound\n",
    "\n",
    "Rather than shifting by the center-of-mass of the whole molecule, we can specify this shifting based upon a child of the `Compound` by specifying passing this to the `anchor` argument. \n",
    "\n",
    "Note, just like center-of-mass shifting, this simply shifts the energy minimized `Compound` after the fact; it does not impose any sort of constraints on the optimization itself.  \n",
    "\n",
    "In the following code, we will specify the anchor to be the terminal methyl group of the hexane chain. "
   ]
  },
  {
   "cell_type": "code",
   "execution_count": 5,
   "id": "13198ce1-3088-41bc-8110-e15b99e22a7e",
   "metadata": {},
   "outputs": [
    {
     "name": "stdout",
     "output_type": "stream",
     "text": [
      "Net change in anchor COM: 0.0000000000 nm \n",
      "COM position of the anchor is effectively unchanged.\n"
     ]
    }
   ],
   "source": [
    "hexane = Alkane(n=6)\n",
    "anchor_point = hexane.labels['chain'].labels['CH3'][0]\n",
    "\n",
    "initial_com = anchor_point.pos\n",
    "\n",
    "hexane.energy_minimize(shift_com=False, anchor=anchor_point)\n",
    "\n",
    "final_com = anchor_point.pos\n",
    "\n",
    "diff = np.linalg.norm(initial_com-final_com)\n",
    "print(\"Net change in anchor COM: {0:.10f} nm \".format(diff))\n",
    "\n",
    "\n",
    "if np.allclose(initial_com, final_com, rtol=1e-10, atol=1e-10):\n",
    "    print(\"COM position of the anchor is effectively unchanged.\")\n",
    "else:\n",
    "    print(\"COM position of the anchor has changed after energy minimization.\")"
   ]
  },
  {
   "cell_type": "markdown",
   "id": "fb9b3b41-193a-4bdd-8a1f-2211fc860e0c",
   "metadata": {},
   "source": [
    "Since mBuild is flexible and can perform the same basic operations on any `Compound`, the user specified anchor could alternatively be a `Compound` that represents a point particle (for example, the C atom in the methyl group).\n",
    "\n",
    "Note, the code will check to ensure that the specified anchor is part of the larger `Compound`.  For example, in the code below, we will set the anchor to be an arbitrary point not part of the hexane molecule. This will produce an error by design."
   ]
  },
  {
   "cell_type": "code",
   "execution_count": 6,
   "id": "019796d7-7081-4b47-ac8f-d9812e3d8b2e",
   "metadata": {},
   "outputs": [
    {
     "ename": "MBuildError",
     "evalue": "Anchor: <O pos=([0. 0. 0.]), 0 bonds, id: 5488829152> is not part of the Compound: <Alkane 20 particles, 19 bonds, non-periodic, id: 5488829536>that you are trying to energy minimize.",
     "output_type": "error",
     "traceback": [
      "\u001b[0;31m---------------------------------------------------------------------------\u001b[0m",
      "\u001b[0;31mMBuildError\u001b[0m                               Traceback (most recent call last)",
      "Cell \u001b[0;32mIn [6], line 3\u001b[0m\n\u001b[1;32m      1\u001b[0m hexane \u001b[38;5;241m=\u001b[39m Alkane(n\u001b[38;5;241m=\u001b[39m\u001b[38;5;241m6\u001b[39m)\n\u001b[1;32m      2\u001b[0m anchor_point \u001b[38;5;241m=\u001b[39m mb\u001b[38;5;241m.\u001b[39mCompound(pos\u001b[38;5;241m=\u001b[39m[\u001b[38;5;241m0\u001b[39m,\u001b[38;5;241m0\u001b[39m,\u001b[38;5;241m0\u001b[39m], name\u001b[38;5;241m=\u001b[39m\u001b[38;5;124m'\u001b[39m\u001b[38;5;124mO\u001b[39m\u001b[38;5;124m'\u001b[39m)\n\u001b[0;32m----> 3\u001b[0m \u001b[43mhexane\u001b[49m\u001b[38;5;241;43m.\u001b[39;49m\u001b[43menergy_minimize\u001b[49m\u001b[43m(\u001b[49m\u001b[43mshift_com\u001b[49m\u001b[38;5;241;43m=\u001b[39;49m\u001b[38;5;28;43;01mFalse\u001b[39;49;00m\u001b[43m,\u001b[49m\u001b[43m \u001b[49m\u001b[43manchor\u001b[49m\u001b[38;5;241;43m=\u001b[39;49m\u001b[43manchor_point\u001b[49m\u001b[43m)\u001b[49m\n",
      "File \u001b[0;32m~/Dropbox/Mac (3)/Documents/Codes/mbuild/mbuild/compound.py:2029\u001b[0m, in \u001b[0;36mCompound.energy_minimize\u001b[0;34m(self, forcefield, steps, shift_com, anchor, **kwargs)\u001b[0m\n\u001b[1;32m   2026\u001b[0m             anchor_pos_old \u001b[38;5;241m=\u001b[39m anchor\u001b[38;5;241m.\u001b[39mpos\n\u001b[1;32m   2028\u001b[0m     \u001b[38;5;28;01mif\u001b[39;00m anchor_in_compound \u001b[38;5;241m==\u001b[39m \u001b[38;5;28;01mFalse\u001b[39;00m:\n\u001b[0;32m-> 2029\u001b[0m         \u001b[38;5;28;01mraise\u001b[39;00m MBuildError(\n\u001b[1;32m   2030\u001b[0m             \u001b[38;5;124mf\u001b[39m\u001b[38;5;124m\"\u001b[39m\u001b[38;5;124mAnchor: \u001b[39m\u001b[38;5;132;01m{\u001b[39;00manchor\u001b[38;5;132;01m}\u001b[39;00m\u001b[38;5;124m is not part of the Compound: \u001b[39m\u001b[38;5;132;01m{\u001b[39;00m\u001b[38;5;28mself\u001b[39m\u001b[38;5;132;01m}\u001b[39;00m\u001b[38;5;124m\"\u001b[39m\n\u001b[1;32m   2031\u001b[0m             \u001b[38;5;124m\"\u001b[39m\u001b[38;5;124mthat you are trying to energy minimize.\u001b[39m\u001b[38;5;124m\"\u001b[39m\n\u001b[1;32m   2032\u001b[0m             )\n\u001b[1;32m   2033\u001b[0m tmp_dir \u001b[38;5;241m=\u001b[39m tempfile\u001b[38;5;241m.\u001b[39mmkdtemp()\n\u001b[1;32m   2034\u001b[0m original \u001b[38;5;241m=\u001b[39m clone(\u001b[38;5;28mself\u001b[39m)\n",
      "\u001b[0;31mMBuildError\u001b[0m: Anchor: <O pos=([0. 0. 0.]), 0 bonds, id: 5488829152> is not part of the Compound: <Alkane 20 particles, 19 bonds, non-periodic, id: 5488829536>that you are trying to energy minimize."
     ]
    }
   ],
   "source": [
    "hexane = Alkane(n=6)\n",
    "anchor_point = mb.Compound(pos=[0,0,0], name='O')\n",
    "hexane.energy_minimize(shift_com=False, anchor=anchor_point)\n"
   ]
  }
 ],
 "metadata": {
  "kernelspec": {
   "display_name": "Python 3 (ipykernel)",
   "language": "python",
   "name": "python3"
  },
  "language_info": {
   "codemirror_mode": {
    "name": "ipython",
    "version": 3
   },
   "file_extension": ".py",
   "mimetype": "text/x-python",
   "name": "python",
   "nbconvert_exporter": "python",
   "pygments_lexer": "ipython3",
   "version": "3.9.13"
  }
 },
 "nbformat": 4,
 "nbformat_minor": 5
}
